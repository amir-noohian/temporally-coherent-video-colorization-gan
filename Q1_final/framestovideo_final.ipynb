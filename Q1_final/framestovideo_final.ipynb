{
  "nbformat": 4,
  "nbformat_minor": 0,
  "metadata": {
    "colab": {
      "name": "framestovideo_final.ipynb",
      "provenance": [],
      "collapsed_sections": []
    },
    "kernelspec": {
      "name": "python3",
      "display_name": "Python 3"
    }
  },
  "cells": [
    {
      "cell_type": "code",
      "metadata": {
        "id": "PHqBHXUy0Qpi"
      },
      "source": [
        "import sys\r\n",
        "import cv2\r\n",
        "import numpy as np\r\n",
        "import glob"
      ],
      "execution_count": 1,
      "outputs": []
    },
    {
      "cell_type": "code",
      "metadata": {
        "colab": {
          "base_uri": "https://localhost:8080/"
        },
        "id": "KKRpeZyg02U0",
        "outputId": "909efae6-4e4e-4db5-e2cc-a30b64b05e2e"
      },
      "source": [
        "from google.colab import drive\r\n",
        "drive.mount('/content/gdrive')"
      ],
      "execution_count": 2,
      "outputs": [
        {
          "output_type": "stream",
          "text": [
            "Drive already mounted at /content/gdrive; to attempt to forcibly remount, call drive.mount(\"/content/gdrive\", force_remount=True).\n"
          ],
          "name": "stdout"
        }
      ]
    },
    {
      "cell_type": "code",
      "metadata": {
        "id": "TINQdVTJ8Og-"
      },
      "source": [
        "sys.path.append('/content/gdrive/MyDrive')"
      ],
      "execution_count": 3,
      "outputs": []
    },
    {
      "cell_type": "code",
      "metadata": {
        "id": "-FJZyePMEg3o"
      },
      "source": [
        "pathout = '/content/gdrive/MyDrive/video_final.mkv'\r\n",
        "fps = 0.5"
      ],
      "execution_count": 5,
      "outputs": []
    },
    {
      "cell_type": "code",
      "metadata": {
        "id": "6w_GhI2K1mYx"
      },
      "source": [
        "img_array = []\r\n",
        "for filename in glob.glob('/content/gdrive/MyDrive/results_final/*.jpg'):\r\n",
        "    img = cv2.imread(filename)\r\n",
        "    height, width, layers = img.shape\r\n",
        "    size = (width,height)\r\n",
        "    img_array.append(img)"
      ],
      "execution_count": 6,
      "outputs": []
    },
    {
      "cell_type": "code",
      "metadata": {
        "id": "MdyyxcFC2LdP"
      },
      "source": [
        "out = cv2.VideoWriter(pathout,cv2.VideoWriter_fourcc(*'DIVX'), fps, size)"
      ],
      "execution_count": 7,
      "outputs": []
    },
    {
      "cell_type": "code",
      "metadata": {
        "id": "ULrGG5mI2N-q"
      },
      "source": [
        "for i in range(len(img_array)):\r\n",
        "    out.write(img_array[i])\r\n",
        "out.release()"
      ],
      "execution_count": 8,
      "outputs": []
    }
  ]
}