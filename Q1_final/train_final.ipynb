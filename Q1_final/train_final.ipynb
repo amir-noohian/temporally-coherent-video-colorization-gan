{
  "nbformat": 4,
  "nbformat_minor": 0,
  "metadata": {
    "colab": {
      "name": "train_final.ipynb",
      "provenance": [],
      "collapsed_sections": []
    },
    "kernelspec": {
      "name": "python3",
      "display_name": "Python 3"
    },
    "accelerator": "GPU",
    "widgets": {
      "application/vnd.jupyter.widget-state+json": {
        "4d27997dfb604d63a58d96bad83cd1fe": {
          "model_module": "@jupyter-widgets/controls",
          "model_name": "HBoxModel",
          "state": {
            "_view_name": "HBoxView",
            "_dom_classes": [],
            "_model_name": "HBoxModel",
            "_view_module": "@jupyter-widgets/controls",
            "_model_module_version": "1.5.0",
            "_view_count": null,
            "_view_module_version": "1.5.0",
            "box_style": "",
            "layout": "IPY_MODEL_721d36a4ed494a8e830102fe538232d8",
            "_model_module": "@jupyter-widgets/controls",
            "children": [
              "IPY_MODEL_257e9582fa2c47d2b6201dfa1b85af62",
              "IPY_MODEL_4362101312d6472ebd8909b5c4baa650"
            ]
          }
        },
        "721d36a4ed494a8e830102fe538232d8": {
          "model_module": "@jupyter-widgets/base",
          "model_name": "LayoutModel",
          "state": {
            "_view_name": "LayoutView",
            "grid_template_rows": null,
            "right": null,
            "justify_content": null,
            "_view_module": "@jupyter-widgets/base",
            "overflow": null,
            "_model_module_version": "1.2.0",
            "_view_count": null,
            "flex_flow": null,
            "width": null,
            "min_width": null,
            "border": null,
            "align_items": null,
            "bottom": null,
            "_model_module": "@jupyter-widgets/base",
            "top": null,
            "grid_column": null,
            "overflow_y": null,
            "overflow_x": null,
            "grid_auto_flow": null,
            "grid_area": null,
            "grid_template_columns": null,
            "flex": null,
            "_model_name": "LayoutModel",
            "justify_items": null,
            "grid_row": null,
            "max_height": null,
            "align_content": null,
            "visibility": null,
            "align_self": null,
            "height": null,
            "min_height": null,
            "padding": null,
            "grid_auto_rows": null,
            "grid_gap": null,
            "max_width": null,
            "order": null,
            "_view_module_version": "1.2.0",
            "grid_template_areas": null,
            "object_position": null,
            "object_fit": null,
            "grid_auto_columns": null,
            "margin": null,
            "display": null,
            "left": null
          }
        },
        "257e9582fa2c47d2b6201dfa1b85af62": {
          "model_module": "@jupyter-widgets/controls",
          "model_name": "FloatProgressModel",
          "state": {
            "_view_name": "ProgressView",
            "style": "IPY_MODEL_856edbf95d7d4104b3c6208ddf7685dc",
            "_dom_classes": [],
            "description": "100%",
            "_model_name": "FloatProgressModel",
            "bar_style": "success",
            "max": 574673361,
            "_view_module": "@jupyter-widgets/controls",
            "_model_module_version": "1.5.0",
            "value": 574673361,
            "_view_count": null,
            "_view_module_version": "1.5.0",
            "orientation": "horizontal",
            "min": 0,
            "description_tooltip": null,
            "_model_module": "@jupyter-widgets/controls",
            "layout": "IPY_MODEL_fe33f11ddd224d9b99602091533dd89d"
          }
        },
        "4362101312d6472ebd8909b5c4baa650": {
          "model_module": "@jupyter-widgets/controls",
          "model_name": "HTMLModel",
          "state": {
            "_view_name": "HTMLView",
            "style": "IPY_MODEL_4896dfa881a54939a318d12ab7cf40c2",
            "_dom_classes": [],
            "description": "",
            "_model_name": "HTMLModel",
            "placeholder": "​",
            "_view_module": "@jupyter-widgets/controls",
            "_model_module_version": "1.5.0",
            "value": " 548M/548M [00:08&lt;00:00, 65.8MB/s]",
            "_view_count": null,
            "_view_module_version": "1.5.0",
            "description_tooltip": null,
            "_model_module": "@jupyter-widgets/controls",
            "layout": "IPY_MODEL_a97e27793ee9422ba3addbfa5c2c321c"
          }
        },
        "856edbf95d7d4104b3c6208ddf7685dc": {
          "model_module": "@jupyter-widgets/controls",
          "model_name": "ProgressStyleModel",
          "state": {
            "_view_name": "StyleView",
            "_model_name": "ProgressStyleModel",
            "description_width": "initial",
            "_view_module": "@jupyter-widgets/base",
            "_model_module_version": "1.5.0",
            "_view_count": null,
            "_view_module_version": "1.2.0",
            "bar_color": null,
            "_model_module": "@jupyter-widgets/controls"
          }
        },
        "fe33f11ddd224d9b99602091533dd89d": {
          "model_module": "@jupyter-widgets/base",
          "model_name": "LayoutModel",
          "state": {
            "_view_name": "LayoutView",
            "grid_template_rows": null,
            "right": null,
            "justify_content": null,
            "_view_module": "@jupyter-widgets/base",
            "overflow": null,
            "_model_module_version": "1.2.0",
            "_view_count": null,
            "flex_flow": null,
            "width": null,
            "min_width": null,
            "border": null,
            "align_items": null,
            "bottom": null,
            "_model_module": "@jupyter-widgets/base",
            "top": null,
            "grid_column": null,
            "overflow_y": null,
            "overflow_x": null,
            "grid_auto_flow": null,
            "grid_area": null,
            "grid_template_columns": null,
            "flex": null,
            "_model_name": "LayoutModel",
            "justify_items": null,
            "grid_row": null,
            "max_height": null,
            "align_content": null,
            "visibility": null,
            "align_self": null,
            "height": null,
            "min_height": null,
            "padding": null,
            "grid_auto_rows": null,
            "grid_gap": null,
            "max_width": null,
            "order": null,
            "_view_module_version": "1.2.0",
            "grid_template_areas": null,
            "object_position": null,
            "object_fit": null,
            "grid_auto_columns": null,
            "margin": null,
            "display": null,
            "left": null
          }
        },
        "4896dfa881a54939a318d12ab7cf40c2": {
          "model_module": "@jupyter-widgets/controls",
          "model_name": "DescriptionStyleModel",
          "state": {
            "_view_name": "StyleView",
            "_model_name": "DescriptionStyleModel",
            "description_width": "",
            "_view_module": "@jupyter-widgets/base",
            "_model_module_version": "1.5.0",
            "_view_count": null,
            "_view_module_version": "1.2.0",
            "_model_module": "@jupyter-widgets/controls"
          }
        },
        "a97e27793ee9422ba3addbfa5c2c321c": {
          "model_module": "@jupyter-widgets/base",
          "model_name": "LayoutModel",
          "state": {
            "_view_name": "LayoutView",
            "grid_template_rows": null,
            "right": null,
            "justify_content": null,
            "_view_module": "@jupyter-widgets/base",
            "overflow": null,
            "_model_module_version": "1.2.0",
            "_view_count": null,
            "flex_flow": null,
            "width": null,
            "min_width": null,
            "border": null,
            "align_items": null,
            "bottom": null,
            "_model_module": "@jupyter-widgets/base",
            "top": null,
            "grid_column": null,
            "overflow_y": null,
            "overflow_x": null,
            "grid_auto_flow": null,
            "grid_area": null,
            "grid_template_columns": null,
            "flex": null,
            "_model_name": "LayoutModel",
            "justify_items": null,
            "grid_row": null,
            "max_height": null,
            "align_content": null,
            "visibility": null,
            "align_self": null,
            "height": null,
            "min_height": null,
            "padding": null,
            "grid_auto_rows": null,
            "grid_gap": null,
            "max_width": null,
            "order": null,
            "_view_module_version": "1.2.0",
            "grid_template_areas": null,
            "object_position": null,
            "object_fit": null,
            "grid_auto_columns": null,
            "margin": null,
            "display": null,
            "left": null
          }
        }
      }
    }
  },
  "cells": [
    {
      "cell_type": "markdown",
      "metadata": {
        "id": "Kl2uxgaEgY9I"
      },
      "source": [
        "## In this code, we consider GAN loss, L1 loss, and Style loss. In addition, we use both the current lineart frame and the previous frame to input the generator."
      ]
    },
    {
      "cell_type": "code",
      "metadata": {
        "colab": {
          "base_uri": "https://localhost:8080/"
        },
        "id": "hif97tj5cj9o",
        "outputId": "d9cf0f08-87c8-4b79-ecff-f7750818ecb4"
      },
      "source": [
        "!pip uninstall scipy\r\n",
        "!pip install scipy==1.1.0"
      ],
      "execution_count": 1,
      "outputs": [
        {
          "output_type": "stream",
          "text": [
            "Uninstalling scipy-1.4.1:\n",
            "  Would remove:\n",
            "    /usr/local/lib/python3.6/dist-packages/scipy-1.4.1.dist-info/*\n",
            "    /usr/local/lib/python3.6/dist-packages/scipy/*\n",
            "Proceed (y/n)? y\n",
            "  Successfully uninstalled scipy-1.4.1\n",
            "Collecting scipy==1.1.0\n",
            "\u001b[?25l  Downloading https://files.pythonhosted.org/packages/a8/0b/f163da98d3a01b3e0ef1cab8dd2123c34aee2bafbb1c5bffa354cc8a1730/scipy-1.1.0-cp36-cp36m-manylinux1_x86_64.whl (31.2MB)\n",
            "\u001b[K     |████████████████████████████████| 31.2MB 102kB/s \n",
            "\u001b[?25hRequirement already satisfied: numpy>=1.8.2 in /usr/local/lib/python3.6/dist-packages (from scipy==1.1.0) (1.19.5)\n",
            "\u001b[31mERROR: plotnine 0.6.0 has requirement scipy>=1.2.0, but you'll have scipy 1.1.0 which is incompatible.\u001b[0m\n",
            "\u001b[31mERROR: albumentations 0.1.12 has requirement imgaug<0.2.7,>=0.2.5, but you'll have imgaug 0.2.9 which is incompatible.\u001b[0m\n",
            "Installing collected packages: scipy\n",
            "Successfully installed scipy-1.1.0\n"
          ],
          "name": "stdout"
        }
      ]
    },
    {
      "cell_type": "code",
      "metadata": {
        "id": "yKQTf3rjcOnz"
      },
      "source": [
        "import sys\r\n",
        "import os\r\n",
        "import numpy as np\r\n",
        "from math import log10\r\n",
        "from os.path import join\r\n",
        "from PIL import Image\r\n",
        "import torch\r\n",
        "import torch.nn as nn\r\n",
        "import torch.optim as optim\r\n",
        "from torch.autograd import Variable\r\n",
        "from torch.utils.data import DataLoader\r\n",
        "import torch.backends.cudnn as cudnn\r\n",
        "import torchvision.transforms as transforms"
      ],
      "execution_count": 2,
      "outputs": []
    },
    {
      "cell_type": "code",
      "metadata": {
        "id": "tB_WEhnDvOjF"
      },
      "source": [
        "os.environ['CUDA_VISIBLE_DEVICES'] = '0'"
      ],
      "execution_count": 3,
      "outputs": []
    },
    {
      "cell_type": "code",
      "metadata": {
        "colab": {
          "base_uri": "https://localhost:8080/"
        },
        "id": "jgM5pqPIU9d9",
        "outputId": "9017a0d9-8d00-4838-a269-851e5ce40d97"
      },
      "source": [
        "from google.colab import drive\r\n",
        "drive.mount('/content/gdrive')"
      ],
      "execution_count": 4,
      "outputs": [
        {
          "output_type": "stream",
          "text": [
            "Mounted at /content/gdrive\n"
          ],
          "name": "stdout"
        }
      ]
    },
    {
      "cell_type": "code",
      "metadata": {
        "id": "t3EZsqYjVQoS"
      },
      "source": [
        "sys.path.append('/content/gdrive/MyDrive/src_final')"
      ],
      "execution_count": 5,
      "outputs": []
    },
    {
      "cell_type": "code",
      "metadata": {
        "id": "xxJDA28aUJe9"
      },
      "source": [
        "from models import define_G, define_D, print_network\r\n",
        "from data import get_training_set, get_test_set, create_iterator\r\n",
        "from dataset import DatasetFromFolder\r\n",
        "from loss import AdversarialLoss, StyleLoss, PerceptualLoss\r\n",
        "from util import Progbar, stitch_images, postprocess, load"
      ],
      "execution_count": 6,
      "outputs": []
    },
    {
      "cell_type": "code",
      "metadata": {
        "id": "2T5HnCEwsgXS"
      },
      "source": [
        "root = '/content/gdrive/MyDrive'\r\n",
        "dataset = 'dataset'\r\n",
        "logfile = 'trainlogs.dat'\r\n",
        "checkpoint_path_G = False\r\n",
        "checkpoint_path_D = False\r\n",
        "batchSize = 8\r\n",
        "testBatchSize = 1\r\n",
        "nEpochs = 5\r\n",
        "input_nc = 1\r\n",
        "output_nc = 3\r\n",
        "lr = 0.0001\r\n",
        "beta1 = 0\r\n",
        "cuda = True\r\n",
        "threads = 0\r\n",
        "seed = 123\r\n",
        "L1lamb = 10\r\n",
        "Stylelamb = 1000\r\n",
        "Contentlamb = 1\r\n",
        "Adversariallamb = 0.1\r\n",
        "ngf = 2\r\n",
        "ndf = 2"
      ],
      "execution_count": 7,
      "outputs": []
    },
    {
      "cell_type": "code",
      "metadata": {
        "id": "Af92GbOgPG2j"
      },
      "source": [
        "if cuda and not torch.cuda.is_available():\r\n",
        "    raise Exception(\"No GPU found, please run without --cuda\")\r\n",
        "\r\n",
        "cudnn.benchmark = True\r\n",
        "\r\n",
        "torch.manual_seed(seed)\r\n",
        "if cuda:\r\n",
        "    torch.cuda.manual_seed(seed)"
      ],
      "execution_count": 8,
      "outputs": []
    },
    {
      "cell_type": "code",
      "metadata": {
        "colab": {
          "base_uri": "https://localhost:8080/"
        },
        "id": "hGXUruQOvpvV",
        "outputId": "4f939006-30dc-44a9-a9f0-da619ecee5b5"
      },
      "source": [
        "print('===> Loading datasets')\r\n",
        "root_path = root\r\n",
        "train_set = get_training_set(join(root_path , dataset))\r\n",
        "test_set = get_test_set(join(root_path , dataset))"
      ],
      "execution_count": 9,
      "outputs": [
        {
          "output_type": "stream",
          "text": [
            "===> Loading datasets\n"
          ],
          "name": "stdout"
        }
      ]
    },
    {
      "cell_type": "code",
      "metadata": {
        "id": "VUec3y0aPRZE"
      },
      "source": [
        "training_data_loader = DataLoader(dataset=train_set, num_workers=threads, batch_size=batchSize, shuffle=True)\r\n",
        "testing_data_loader = DataLoader(dataset=test_set, num_workers=threads, batch_size=testBatchSize, shuffle=False)"
      ],
      "execution_count": 10,
      "outputs": []
    },
    {
      "cell_type": "code",
      "metadata": {
        "id": "Iv2Sg-JBPVPd"
      },
      "source": [
        "sample_iterator = create_iterator(2, test_set)"
      ],
      "execution_count": 11,
      "outputs": []
    },
    {
      "cell_type": "code",
      "metadata": {
        "id": "T9O_Y9qkPY9S",
        "colab": {
          "base_uri": "https://localhost:8080/"
        },
        "outputId": "460ad3aa-93e9-4f7c-f43b-251a1a127a54"
      },
      "source": [
        "print('===> Building model')\r\n",
        "netG = define_G(input_nc, output_nc, ngf, False, [0])\r\n",
        "netD = define_D(input_nc + output_nc, ndf, False, [0])"
      ],
      "execution_count": 12,
      "outputs": [
        {
          "output_type": "stream",
          "text": [
            "===> Building model\n"
          ],
          "name": "stdout"
        }
      ]
    },
    {
      "cell_type": "code",
      "metadata": {
        "id": "4xi4LWxEPbul"
      },
      "source": [
        "if checkpoint_path_G and checkpoint_path_D:\r\n",
        "    load(checkpoint_path_G, checkpoint_path_D, netG, netD)"
      ],
      "execution_count": 13,
      "outputs": []
    },
    {
      "cell_type": "code",
      "metadata": {
        "id": "8T5sTtucPfBj",
        "colab": {
          "base_uri": "https://localhost:8080/",
          "height": 85,
          "referenced_widgets": [
            "4d27997dfb604d63a58d96bad83cd1fe",
            "721d36a4ed494a8e830102fe538232d8",
            "257e9582fa2c47d2b6201dfa1b85af62",
            "4362101312d6472ebd8909b5c4baa650",
            "856edbf95d7d4104b3c6208ddf7685dc",
            "fe33f11ddd224d9b99602091533dd89d",
            "4896dfa881a54939a318d12ab7cf40c2",
            "a97e27793ee9422ba3addbfa5c2c321c"
          ]
        },
        "outputId": "83e4a432-6bc0-4299-ec69-d82cfe9a1c70"
      },
      "source": [
        "criterionGAN = AdversarialLoss()\r\n",
        "criterionSTYLE = StyleLoss()\r\n",
        "criterionCONTENT = PerceptualLoss()\r\n",
        "criterionL1 = nn.L1Loss()\r\n",
        "criterionMSE = nn.MSELoss()"
      ],
      "execution_count": 14,
      "outputs": [
        {
          "output_type": "stream",
          "text": [
            "Downloading: \"https://download.pytorch.org/models/vgg19-dcbb9e9d.pth\" to /root/.cache/torch/hub/checkpoints/vgg19-dcbb9e9d.pth\n"
          ],
          "name": "stderr"
        },
        {
          "output_type": "display_data",
          "data": {
            "application/vnd.jupyter.widget-view+json": {
              "model_id": "4d27997dfb604d63a58d96bad83cd1fe",
              "version_minor": 0,
              "version_major": 2
            },
            "text/plain": [
              "HBox(children=(FloatProgress(value=0.0, max=574673361.0), HTML(value='')))"
            ]
          },
          "metadata": {
            "tags": []
          }
        },
        {
          "output_type": "stream",
          "text": [
            "\n"
          ],
          "name": "stdout"
        }
      ]
    },
    {
      "cell_type": "code",
      "metadata": {
        "id": "LP6Lr9sTPhSL"
      },
      "source": [
        "# setup optimizer\r\n",
        "optimizerG = optim.Adam(netG.parameters(), lr=lr, betas=(beta1, 0.999))\r\n",
        "optimizerD = optim.Adam(netD.parameters(), lr=lr * 0.1, betas=(beta1, 0.999))"
      ],
      "execution_count": 15,
      "outputs": []
    },
    {
      "cell_type": "code",
      "metadata": {
        "id": "_TzXshGnPj19",
        "colab": {
          "base_uri": "https://localhost:8080/"
        },
        "outputId": "f4345a27-d650-40b5-b838-e7bedea798c1"
      },
      "source": [
        "print('---------- Networks initialized -------------')\r\n",
        "print_network(netG)\r\n",
        "print_network(netD)\r\n",
        "print('-----------------------------------------------')"
      ],
      "execution_count": 16,
      "outputs": [
        {
          "output_type": "stream",
          "text": [
            "---------- Networks initialized -------------\n",
            "InpaintGenerator(\n",
            "  (encoder): Sequential(\n",
            "    (0): ReflectionPad2d((3, 3, 3, 3))\n",
            "    (1): Conv2d(4, 64, kernel_size=(7, 7), stride=(1, 1))\n",
            "    (2): InstanceNorm2d(64, eps=1e-05, momentum=0.1, affine=False, track_running_stats=False)\n",
            "    (3): ReLU(inplace=True)\n",
            "    (4): Conv2d(64, 128, kernel_size=(4, 4), stride=(2, 2), padding=(1, 1))\n",
            "    (5): InstanceNorm2d(128, eps=1e-05, momentum=0.1, affine=False, track_running_stats=False)\n",
            "    (6): ReLU(inplace=True)\n",
            "    (7): Conv2d(128, 256, kernel_size=(4, 4), stride=(2, 2), padding=(1, 1))\n",
            "    (8): InstanceNorm2d(256, eps=1e-05, momentum=0.1, affine=False, track_running_stats=False)\n",
            "    (9): ReLU(inplace=True)\n",
            "  )\n",
            "  (middle): Sequential(\n",
            "    (0): ResnetBlock(\n",
            "      (conv_block): Sequential(\n",
            "        (0): ReflectionPad2d((2, 2, 2, 2))\n",
            "        (1): Conv2d(256, 256, kernel_size=(3, 3), stride=(1, 1), dilation=(2, 2))\n",
            "        (2): InstanceNorm2d(256, eps=1e-05, momentum=0.1, affine=False, track_running_stats=False)\n",
            "        (3): ReLU(inplace=True)\n",
            "        (4): ReflectionPad2d((1, 1, 1, 1))\n",
            "        (5): Conv2d(256, 256, kernel_size=(3, 3), stride=(1, 1))\n",
            "        (6): InstanceNorm2d(256, eps=1e-05, momentum=0.1, affine=False, track_running_stats=False)\n",
            "      )\n",
            "    )\n",
            "    (1): ResnetBlock(\n",
            "      (conv_block): Sequential(\n",
            "        (0): ReflectionPad2d((2, 2, 2, 2))\n",
            "        (1): Conv2d(256, 256, kernel_size=(3, 3), stride=(1, 1), dilation=(2, 2))\n",
            "        (2): InstanceNorm2d(256, eps=1e-05, momentum=0.1, affine=False, track_running_stats=False)\n",
            "        (3): ReLU(inplace=True)\n",
            "        (4): ReflectionPad2d((1, 1, 1, 1))\n",
            "        (5): Conv2d(256, 256, kernel_size=(3, 3), stride=(1, 1))\n",
            "        (6): InstanceNorm2d(256, eps=1e-05, momentum=0.1, affine=False, track_running_stats=False)\n",
            "      )\n",
            "    )\n",
            "    (2): ResnetBlock(\n",
            "      (conv_block): Sequential(\n",
            "        (0): ReflectionPad2d((2, 2, 2, 2))\n",
            "        (1): Conv2d(256, 256, kernel_size=(3, 3), stride=(1, 1), dilation=(2, 2))\n",
            "        (2): InstanceNorm2d(256, eps=1e-05, momentum=0.1, affine=False, track_running_stats=False)\n",
            "        (3): ReLU(inplace=True)\n",
            "        (4): ReflectionPad2d((1, 1, 1, 1))\n",
            "        (5): Conv2d(256, 256, kernel_size=(3, 3), stride=(1, 1))\n",
            "        (6): InstanceNorm2d(256, eps=1e-05, momentum=0.1, affine=False, track_running_stats=False)\n",
            "      )\n",
            "    )\n",
            "    (3): ResnetBlock(\n",
            "      (conv_block): Sequential(\n",
            "        (0): ReflectionPad2d((2, 2, 2, 2))\n",
            "        (1): Conv2d(256, 256, kernel_size=(3, 3), stride=(1, 1), dilation=(2, 2))\n",
            "        (2): InstanceNorm2d(256, eps=1e-05, momentum=0.1, affine=False, track_running_stats=False)\n",
            "        (3): ReLU(inplace=True)\n",
            "        (4): ReflectionPad2d((1, 1, 1, 1))\n",
            "        (5): Conv2d(256, 256, kernel_size=(3, 3), stride=(1, 1))\n",
            "        (6): InstanceNorm2d(256, eps=1e-05, momentum=0.1, affine=False, track_running_stats=False)\n",
            "      )\n",
            "    )\n",
            "    (4): ResnetBlock(\n",
            "      (conv_block): Sequential(\n",
            "        (0): ReflectionPad2d((2, 2, 2, 2))\n",
            "        (1): Conv2d(256, 256, kernel_size=(3, 3), stride=(1, 1), dilation=(2, 2))\n",
            "        (2): InstanceNorm2d(256, eps=1e-05, momentum=0.1, affine=False, track_running_stats=False)\n",
            "        (3): ReLU(inplace=True)\n",
            "        (4): ReflectionPad2d((1, 1, 1, 1))\n",
            "        (5): Conv2d(256, 256, kernel_size=(3, 3), stride=(1, 1))\n",
            "        (6): InstanceNorm2d(256, eps=1e-05, momentum=0.1, affine=False, track_running_stats=False)\n",
            "      )\n",
            "    )\n",
            "    (5): ResnetBlock(\n",
            "      (conv_block): Sequential(\n",
            "        (0): ReflectionPad2d((2, 2, 2, 2))\n",
            "        (1): Conv2d(256, 256, kernel_size=(3, 3), stride=(1, 1), dilation=(2, 2))\n",
            "        (2): InstanceNorm2d(256, eps=1e-05, momentum=0.1, affine=False, track_running_stats=False)\n",
            "        (3): ReLU(inplace=True)\n",
            "        (4): ReflectionPad2d((1, 1, 1, 1))\n",
            "        (5): Conv2d(256, 256, kernel_size=(3, 3), stride=(1, 1))\n",
            "        (6): InstanceNorm2d(256, eps=1e-05, momentum=0.1, affine=False, track_running_stats=False)\n",
            "      )\n",
            "    )\n",
            "    (6): ResnetBlock(\n",
            "      (conv_block): Sequential(\n",
            "        (0): ReflectionPad2d((2, 2, 2, 2))\n",
            "        (1): Conv2d(256, 256, kernel_size=(3, 3), stride=(1, 1), dilation=(2, 2))\n",
            "        (2): InstanceNorm2d(256, eps=1e-05, momentum=0.1, affine=False, track_running_stats=False)\n",
            "        (3): ReLU(inplace=True)\n",
            "        (4): ReflectionPad2d((1, 1, 1, 1))\n",
            "        (5): Conv2d(256, 256, kernel_size=(3, 3), stride=(1, 1))\n",
            "        (6): InstanceNorm2d(256, eps=1e-05, momentum=0.1, affine=False, track_running_stats=False)\n",
            "      )\n",
            "    )\n",
            "    (7): ResnetBlock(\n",
            "      (conv_block): Sequential(\n",
            "        (0): ReflectionPad2d((2, 2, 2, 2))\n",
            "        (1): Conv2d(256, 256, kernel_size=(3, 3), stride=(1, 1), dilation=(2, 2))\n",
            "        (2): InstanceNorm2d(256, eps=1e-05, momentum=0.1, affine=False, track_running_stats=False)\n",
            "        (3): ReLU(inplace=True)\n",
            "        (4): ReflectionPad2d((1, 1, 1, 1))\n",
            "        (5): Conv2d(256, 256, kernel_size=(3, 3), stride=(1, 1))\n",
            "        (6): InstanceNorm2d(256, eps=1e-05, momentum=0.1, affine=False, track_running_stats=False)\n",
            "      )\n",
            "    )\n",
            "  )\n",
            "  (decoder): Sequential(\n",
            "    (0): ConvTranspose2d(256, 128, kernel_size=(4, 4), stride=(2, 2), padding=(1, 1))\n",
            "    (1): InstanceNorm2d(128, eps=1e-05, momentum=0.1, affine=False, track_running_stats=False)\n",
            "    (2): ReLU(inplace=True)\n",
            "    (3): ConvTranspose2d(128, 64, kernel_size=(4, 4), stride=(2, 2), padding=(1, 1))\n",
            "    (4): InstanceNorm2d(64, eps=1e-05, momentum=0.1, affine=False, track_running_stats=False)\n",
            "    (5): ReLU(inplace=True)\n",
            "    (6): ReflectionPad2d((3, 3, 3, 3))\n",
            "    (7): Conv2d(64, 3, kernel_size=(7, 7), stride=(1, 1))\n",
            "  )\n",
            ")\n",
            "Total number of parameters: 10774595\n",
            "Discriminator(\n",
            "  (conv1): Sequential(\n",
            "    (0): Conv2d(7, 64, kernel_size=(4, 4), stride=(2, 2), padding=(1, 1), bias=False)\n",
            "    (1): LeakyReLU(negative_slope=0.2, inplace=True)\n",
            "  )\n",
            "  (features): Sequential(\n",
            "    (0): Conv2d(7, 64, kernel_size=(4, 4), stride=(2, 2), padding=(1, 1), bias=False)\n",
            "    (1): LeakyReLU(negative_slope=0.2, inplace=True)\n",
            "  )\n",
            "  (conv2): Sequential(\n",
            "    (0): Conv2d(64, 128, kernel_size=(4, 4), stride=(2, 2), padding=(1, 1), bias=False)\n",
            "    (1): LeakyReLU(negative_slope=0.2, inplace=True)\n",
            "  )\n",
            "  (conv3): Sequential(\n",
            "    (0): Conv2d(128, 256, kernel_size=(4, 4), stride=(2, 2), padding=(1, 1), bias=False)\n",
            "    (1): LeakyReLU(negative_slope=0.2, inplace=True)\n",
            "  )\n",
            "  (conv4): Sequential(\n",
            "    (0): Conv2d(256, 512, kernel_size=(4, 4), stride=(1, 1), padding=(1, 1), bias=False)\n",
            "    (1): LeakyReLU(negative_slope=0.2, inplace=True)\n",
            "  )\n",
            "  (conv5): Sequential(\n",
            "    (0): Conv2d(512, 1, kernel_size=(4, 4), stride=(1, 1), padding=(1, 1), bias=False)\n",
            "  )\n",
            ")\n",
            "Total number of parameters: 2767872\n",
            "-----------------------------------------------\n"
          ],
          "name": "stdout"
        }
      ]
    },
    {
      "cell_type": "code",
      "metadata": {
        "id": "RHE6eEPIPmhx"
      },
      "source": [
        "real_a = torch.FloatTensor(batchSize, input_nc, 256, 256)\r\n",
        "real_b = torch.FloatTensor(batchSize, output_nc, 256, 256)\r\n",
        "prev_b = torch.FloatTensor(batchSize, output_nc, 256, 256)"
      ],
      "execution_count": 17,
      "outputs": []
    },
    {
      "cell_type": "code",
      "metadata": {
        "id": "6Cp-1DnRPrcM"
      },
      "source": [
        "if cuda:\r\n",
        "    netD = netD.cuda()\r\n",
        "    netG = netG.cuda()\r\n",
        "    criterionGAN = criterionGAN.cuda()\r\n",
        "    criterionL1 = criterionL1.cuda()\r\n",
        "    critertionSTYLE = criterionSTYLE.cuda()\r\n",
        "    criterionCONTENT = criterionCONTENT.cuda()\r\n",
        "    criterionMSE = criterionMSE.cuda()\r\n",
        "    real_a = real_a.cuda()\r\n",
        "    real_b = real_b.cuda()\r\n",
        "    prev_b = prev_b.cuda()\r\n",
        "\r\n",
        "real_a = Variable(real_a)\r\n",
        "real_b = Variable(real_b)\r\n",
        "prev_b = Variable(prev_b)"
      ],
      "execution_count": 18,
      "outputs": []
    },
    {
      "cell_type": "code",
      "metadata": {
        "id": "0jZpTDafPzv9"
      },
      "source": [
        "def train(epoch):\r\n",
        "\r\n",
        "    for iteration, batch in enumerate(training_data_loader, 1):\r\n",
        "        # forward\r\n",
        "        real_a_cpu, real_b_cpu, prev_b_cpu = batch[0], batch[1], batch[2]\r\n",
        "        with torch.no_grad():\r\n",
        "          real_a.resize_(real_a_cpu.size()).copy_(real_a_cpu)\r\n",
        "          real_b.resize_(real_b_cpu.size()).copy_(real_b_cpu)\r\n",
        "          prev_b.resize_(prev_b_cpu.size()).copy_(prev_b_cpu)\r\n",
        "\r\n",
        "        input_joined = torch.cat((real_a,prev_b),1)\r\n",
        "\r\n",
        "        fake_b = netG(input_joined)\r\n",
        "\r\n",
        "        ############################\r\n",
        "        # (1) Update D network: maximize log(D(x,y)) + log(1 - D(x,G(x)))\r\n",
        "        ###########################\r\n",
        "\r\n",
        "        optimizerD.zero_grad()\r\n",
        "\r\n",
        "        # train with fake\r\n",
        "        fake_ab = torch.cat((real_a, prev_b, fake_b), 1)\r\n",
        "        pred_fake = netD.forward(fake_ab.detach())\r\n",
        "        loss_d_fake = criterionGAN(pred_fake,False,True)\r\n",
        "\r\n",
        "        # train with real\r\n",
        "        real_ab = torch.cat((real_a, prev_b, real_b), 1)\r\n",
        "        pred_real = netD.forward(real_ab)\r\n",
        "        loss_d_real = criterionGAN(pred_real, True, True) \r\n",
        "\r\n",
        "\r\n",
        "        # Combined loss\r\n",
        "        loss_d = (loss_d_fake + loss_d_real) * 0.5\r\n",
        "\r\n",
        "        loss_d.backward()\r\n",
        "\r\n",
        "        #Discriminator parameters update every 12 iterations \r\n",
        "        if (iteration == 1 or iteration % 12 == 0):\r\n",
        "            optimizerD.step()\r\n",
        "\r\n",
        "        ############################\r\n",
        "        # (2) Update G network: maximize log(D(x,G(x))) + L1(y,G(x))\r\n",
        "        ##########################\r\n",
        "        optimizerG.zero_grad()\r\n",
        "\r\n",
        "        # First, G(A) should fake the discriminator\r\n",
        "        fake_ab = torch.cat((real_a, prev_b,fake_b), 1)\r\n",
        "        pred_fake = netD.forward(fake_ab)\r\n",
        "        loss_g_gan = criterionGAN(pred_fake, True, False)\r\n",
        "\r\n",
        "        # Second, G(A) = B\r\n",
        "        loss_g_l1 = criterionL1(fake_b, real_b) * L1lamb\r\n",
        "        loss_g = loss_g_gan + loss_g_l1\r\n",
        "\r\n",
        "        loss_g_style = criterionSTYLE(fake_b,real_b) * Stylelamb\r\n",
        "        loss_g = loss_g + loss_g_style\r\n",
        "\r\n",
        "        loss_g_content = criterionCONTENT(fake_b,real_b) * Contentlamb\r\n",
        "        loss_g = loss_g + loss_g_content\r\n",
        "\r\n",
        "        loss_g.backward()\r\n",
        "\r\n",
        "        optimizerG.step()\r\n",
        "\r\n",
        "        if (iteration % 6 == 0):\r\n",
        "            logs = [(\"epoc\", epoch),(\"iter\", iteration),(\"Loss_G\", loss_g.item()),(\"Loss_D\", loss_d.item()), (\"Loss_G_adv\",loss_g_gan.item()),(\"Loss_G_L1\",loss_g_l1.item()),(\"Loss_G_style\",loss_g_style.item()),(\"Loss_G_content\",loss_g_content.item()),(\"Loss_D_Real\",loss_d_real.item()),(\"Loss_D_Fake\",loss_d_fake.item())]\r\n",
        "            log_train_data(logs)\r\n",
        "\r\n",
        "        if (iteration % 6 == 0):\r\n",
        "            sample(iteration)\r\n",
        "\r\n",
        "\r\n",
        "        print(\"===> Epoch[{}]({}/{}): Loss_D: {:.4f} Loss_G: {:.4f} LossD_Fake: {:.4f} LossD_Real: {:.4f}  LossG_Adv: {:.4f} LossG_L1: {:.4f} LossG_Style {:.4f} LossG_Content {:.4f}\".format(\r\n",
        "           epoch, iteration, len(training_data_loader), loss_d, loss_g, loss_d_fake, loss_d_real, loss_g_gan, loss_g_l1, loss_g_style, loss_g_content))\r\n",
        "        "
      ],
      "execution_count": 19,
      "outputs": []
    },
    {
      "cell_type": "code",
      "metadata": {
        "id": "grV9tKdNQDer"
      },
      "source": [
        "def sample(iteration):\r\n",
        "    with torch.no_grad():\r\n",
        "\r\n",
        "        input,target,prev_frame = next(sample_iterator)\r\n",
        "        \r\n",
        "        if cuda:\r\n",
        "            input = input.cuda()\r\n",
        "            target = target.cuda()\r\n",
        "            prev_frame = prev_frame.cuda()\r\n",
        "\r\n",
        "        pred_input = torch.cat((input,prev_frame),1)\r\n",
        "        prediction = netG(pred_input)\r\n",
        "        prediction = postprocess(prediction)\r\n",
        "        input = postprocess(input)\r\n",
        "        target = postprocess(target)\r\n",
        "\r\n",
        "    img = stitch_images(input, target, prediction)\r\n",
        "    samples_dir = root_path + \"/samples_final\"\r\n",
        "\r\n",
        "    if not os.path.exists(samples_dir):\r\n",
        "        os.makedirs(samples_dir)\r\n",
        "\r\n",
        "    sample = dataset + \"_\" + str(epoch) + \"_\" + str(iteration).zfill(2) + \".jpg\"\r\n",
        "    print('\\nsaving sample ' + sample + ' - learning rate: ' + str(lr))\r\n",
        "    img.save(os.path.join(samples_dir, sample))"
      ],
      "execution_count": 20,
      "outputs": []
    },
    {
      "cell_type": "code",
      "metadata": {
        "id": "Mc16nvL7QMGV"
      },
      "source": [
        "def log_train_data(loginfo):\r\n",
        "    log_dir = root_path + \"/logs_final\"\r\n",
        "    if not os.path.exists(log_dir):\r\n",
        "        os.makedirs(log_dir)\r\n",
        "    log_file = log_dir + \"/\" + logfile\r\n",
        "    with open(log_file, 'a') as f:\r\n",
        "        f.write('%s\\n' % ' '.join([str(item[1]) for item in loginfo]))"
      ],
      "execution_count": 21,
      "outputs": []
    },
    {
      "cell_type": "code",
      "metadata": {
        "id": "y65ILFkOsSNF"
      },
      "source": [
        "def checkpoint(epoch):\r\n",
        "    checkpoint_dir = root_path + '/checkpoint_final'\r\n",
        "    if not os.path.exists(checkpoint_dir):\r\n",
        "        os.makedirs(checkpoint_dir)\r\n",
        "\r\n",
        "    net_g_model_out_path = checkpoint_dir + \"/netG_weights_epoch_{}.pth\".format(epoch)\r\n",
        "    net_d_model_out_path = checkpoint_dir + \"/netD_weights_epoch_{}.pth\".format(epoch)\r\n",
        "\r\n",
        "    torch.save({'generator': netG.state_dict()}, net_g_model_out_path)\r\n",
        "    torch.save({'discriminator': netD.state_dict()}, net_d_model_out_path)\r\n",
        "    \r\n",
        "    print(\"Checkpoint saved to {}\".format(\"checkpoint\" + dataset))"
      ],
      "execution_count": 22,
      "outputs": []
    },
    {
      "cell_type": "code",
      "metadata": {
        "id": "KLUULk4yQYsf",
        "colab": {
          "base_uri": "https://localhost:8080/"
        },
        "outputId": "10a52da1-ed03-4f3a-8e2f-c151efeacbb4"
      },
      "source": [
        "for epoch in range(1, nEpochs + 1):\r\n",
        "    train(epoch)\r\n",
        "    checkpoint(epoch)"
      ],
      "execution_count": 23,
      "outputs": [
        {
          "output_type": "stream",
          "text": [
            "===> Epoch[1](1/13): Loss_D: 0.7091 Loss_G: 13.3503 LossD_Fake: 0.7707 LossD_Real: 0.6475  LossG_Adv: 0.6650 LossG_L1: 3.3527 LossG_Style 5.3346 LossG_Content 3.9980\n",
            "===> Epoch[1](2/13): Loss_D: 0.6955 Loss_G: 13.2460 LossD_Fake: 0.7182 LossD_Real: 0.6727  LossG_Adv: 0.6715 LossG_L1: 3.4628 LossG_Style 5.0558 LossG_Content 4.0560\n",
            "===> Epoch[1](3/13): Loss_D: 0.6942 Loss_G: 13.4813 LossD_Fake: 0.7142 LossD_Real: 0.6743  LossG_Adv: 0.6735 LossG_L1: 3.7454 LossG_Style 5.0118 LossG_Content 4.0505\n",
            "===> Epoch[1](4/13): Loss_D: 0.6929 Loss_G: 14.0535 LossD_Fake: 0.7115 LossD_Real: 0.6744  LossG_Adv: 0.6756 LossG_L1: 3.6366 LossG_Style 5.6310 LossG_Content 4.1104\n",
            "===> Epoch[1](5/13): Loss_D: 0.6922 Loss_G: 13.7045 LossD_Fake: 0.7099 LossD_Real: 0.6744  LossG_Adv: 0.6769 LossG_L1: 3.3584 LossG_Style 5.5177 LossG_Content 4.1515\n",
            "\n",
            "saving sample dataset_1_06.jpg - learning rate: 0.0001\n",
            "===> Epoch[1](6/13): Loss_D: 0.6922 Loss_G: 12.9714 LossD_Fake: 0.7094 LossD_Real: 0.6750  LossG_Adv: 0.6774 LossG_L1: 3.3755 LossG_Style 4.8944 LossG_Content 4.0242\n",
            "===> Epoch[1](7/13): Loss_D: 0.6925 Loss_G: 13.3970 LossD_Fake: 0.7095 LossD_Real: 0.6755  LossG_Adv: 0.6772 LossG_L1: 3.3553 LossG_Style 5.3289 LossG_Content 4.0356\n",
            "===> Epoch[1](8/13): Loss_D: 0.6922 Loss_G: 13.3864 LossD_Fake: 0.7092 LossD_Real: 0.6752  LossG_Adv: 0.6775 LossG_L1: 3.3027 LossG_Style 5.2975 LossG_Content 4.1087\n",
            "===> Epoch[1](9/13): Loss_D: 0.6921 Loss_G: 12.3347 LossD_Fake: 0.7098 LossD_Real: 0.6745  LossG_Adv: 0.6769 LossG_L1: 3.3611 LossG_Style 4.5327 LossG_Content 3.7640\n",
            "===> Epoch[1](10/13): Loss_D: 0.6924 Loss_G: 12.5992 LossD_Fake: 0.7088 LossD_Real: 0.6760  LossG_Adv: 0.6778 LossG_L1: 3.0787 LossG_Style 4.9913 LossG_Content 3.8513\n",
            "===> Epoch[1](11/13): Loss_D: 0.6924 Loss_G: 12.1345 LossD_Fake: 0.7092 LossD_Real: 0.6756  LossG_Adv: 0.6775 LossG_L1: 3.2108 LossG_Style 4.5725 LossG_Content 3.6738\n",
            "\n",
            "saving sample dataset_1_12.jpg - learning rate: 0.0001\n",
            "===> Epoch[1](12/13): Loss_D: 0.6925 Loss_G: 11.9000 LossD_Fake: 0.7092 LossD_Real: 0.6758  LossG_Adv: 0.6780 LossG_L1: 3.1399 LossG_Style 4.4034 LossG_Content 3.6787\n",
            "===> Epoch[1](13/13): Loss_D: 0.6913 Loss_G: 12.9173 LossD_Fake: 0.7080 LossD_Real: 0.6746  LossG_Adv: 0.6785 LossG_L1: 3.3674 LossG_Style 5.1315 LossG_Content 3.7399\n",
            "Checkpoint saved to checkpointdataset\n",
            "===> Epoch[2](1/13): Loss_D: 0.6926 Loss_G: 12.0223 LossD_Fake: 0.7088 LossD_Real: 0.6764  LossG_Adv: 0.6783 LossG_L1: 2.9065 LossG_Style 4.7183 LossG_Content 3.7192\n",
            "===> Epoch[2](2/13): Loss_D: 0.6913 Loss_G: 12.4476 LossD_Fake: 0.7078 LossD_Real: 0.6749  LossG_Adv: 0.6788 LossG_L1: 3.1842 LossG_Style 4.7616 LossG_Content 3.8230\n",
            "===> Epoch[2](3/13): Loss_D: 0.6926 Loss_G: 11.4772 LossD_Fake: 0.7093 LossD_Real: 0.6759  LossG_Adv: 0.6773 LossG_L1: 3.0017 LossG_Style 4.3023 LossG_Content 3.4958\n",
            "===> Epoch[2](4/13): Loss_D: 0.6914 Loss_G: 12.4569 LossD_Fake: 0.7076 LossD_Real: 0.6753  LossG_Adv: 0.6790 LossG_L1: 3.0504 LossG_Style 5.1154 LossG_Content 3.6121\n",
            "===> Epoch[2](5/13): Loss_D: 0.6924 Loss_G: 11.1158 LossD_Fake: 0.7086 LossD_Real: 0.6761  LossG_Adv: 0.6779 LossG_L1: 2.9754 LossG_Style 4.1596 LossG_Content 3.3028\n",
            "\n",
            "saving sample dataset_2_06.jpg - learning rate: 0.0001\n",
            "===> Epoch[2](6/13): Loss_D: 0.6918 Loss_G: 11.6533 LossD_Fake: 0.7082 LossD_Real: 0.6753  LossG_Adv: 0.6783 LossG_L1: 3.1162 LossG_Style 4.4673 LossG_Content 3.3914\n",
            "===> Epoch[2](7/13): Loss_D: 0.6918 Loss_G: 11.6253 LossD_Fake: 0.7087 LossD_Real: 0.6749  LossG_Adv: 0.6779 LossG_L1: 3.1375 LossG_Style 4.4425 LossG_Content 3.3674\n",
            "===> Epoch[2](8/13): Loss_D: 0.6919 Loss_G: 11.0651 LossD_Fake: 0.7082 LossD_Real: 0.6756  LossG_Adv: 0.6784 LossG_L1: 3.0329 LossG_Style 4.1093 LossG_Content 3.2446\n",
            "===> Epoch[2](9/13): Loss_D: 0.6919 Loss_G: 11.1124 LossD_Fake: 0.7089 LossD_Real: 0.6748  LossG_Adv: 0.6777 LossG_L1: 3.1910 LossG_Style 3.9334 LossG_Content 3.3102\n",
            "===> Epoch[2](10/13): Loss_D: 0.6927 Loss_G: 11.3669 LossD_Fake: 0.7085 LossD_Real: 0.6769  LossG_Adv: 0.6781 LossG_L1: 2.8330 LossG_Style 4.2840 LossG_Content 3.5717\n",
            "===> Epoch[2](11/13): Loss_D: 0.6913 Loss_G: 12.2392 LossD_Fake: 0.7077 LossD_Real: 0.6750  LossG_Adv: 0.6789 LossG_L1: 3.2502 LossG_Style 4.5514 LossG_Content 3.7588\n",
            "\n",
            "saving sample dataset_2_12.jpg - learning rate: 0.0001\n",
            "===> Epoch[2](12/13): Loss_D: 0.6919 Loss_G: 12.3495 LossD_Fake: 0.7078 LossD_Real: 0.6759  LossG_Adv: 0.6791 LossG_L1: 3.0906 LossG_Style 4.9327 LossG_Content 3.6471\n",
            "===> Epoch[2](13/13): Loss_D: 0.6930 Loss_G: 9.8989 LossD_Fake: 0.7081 LossD_Real: 0.6780  LossG_Adv: 0.6784 LossG_L1: 2.5023 LossG_Style 3.6411 LossG_Content 3.0771\n",
            "Checkpoint saved to checkpointdataset\n",
            "===> Epoch[3](1/13): Loss_D: 0.6908 Loss_G: 12.3597 LossD_Fake: 0.7076 LossD_Real: 0.6740  LossG_Adv: 0.6785 LossG_L1: 3.1564 LossG_Style 4.9307 LossG_Content 3.5941\n",
            "===> Epoch[3](2/13): Loss_D: 0.6920 Loss_G: 10.7395 LossD_Fake: 0.7086 LossD_Real: 0.6754  LossG_Adv: 0.6780 LossG_L1: 2.8745 LossG_Style 3.9845 LossG_Content 3.2025\n",
            "===> Epoch[3](3/13): Loss_D: 0.6913 Loss_G: 11.1200 LossD_Fake: 0.7095 LossD_Real: 0.6731  LossG_Adv: 0.6771 LossG_L1: 3.0969 LossG_Style 4.1721 LossG_Content 3.1739\n",
            "===> Epoch[3](4/13): Loss_D: 0.6923 Loss_G: 9.9350 LossD_Fake: 0.7092 LossD_Real: 0.6754  LossG_Adv: 0.6774 LossG_L1: 2.8718 LossG_Style 3.4452 LossG_Content 2.9407\n",
            "===> Epoch[3](5/13): Loss_D: 0.6918 Loss_G: 12.1189 LossD_Fake: 0.7087 LossD_Real: 0.6749  LossG_Adv: 0.6778 LossG_L1: 2.8527 LossG_Style 5.1591 LossG_Content 3.4293\n",
            "\n",
            "saving sample dataset_3_06.jpg - learning rate: 0.0001\n",
            "===> Epoch[3](6/13): Loss_D: 0.6914 Loss_G: 10.4314 LossD_Fake: 0.7081 LossD_Real: 0.6748  LossG_Adv: 0.6785 LossG_L1: 2.9080 LossG_Style 3.8105 LossG_Content 3.0345\n",
            "===> Epoch[3](7/13): Loss_D: 0.6920 Loss_G: 10.8468 LossD_Fake: 0.7091 LossD_Real: 0.6750  LossG_Adv: 0.6775 LossG_L1: 3.0195 LossG_Style 3.9831 LossG_Content 3.1668\n",
            "===> Epoch[3](8/13): Loss_D: 0.6914 Loss_G: 11.2008 LossD_Fake: 0.7084 LossD_Real: 0.6744  LossG_Adv: 0.6782 LossG_L1: 2.8638 LossG_Style 4.3847 LossG_Content 3.2740\n",
            "===> Epoch[3](9/13): Loss_D: 0.6921 Loss_G: 11.2149 LossD_Fake: 0.7088 LossD_Real: 0.6753  LossG_Adv: 0.6777 LossG_L1: 2.7038 LossG_Style 4.5354 LossG_Content 3.2980\n",
            "===> Epoch[3](10/13): Loss_D: 0.6914 Loss_G: 10.4773 LossD_Fake: 0.7082 LossD_Real: 0.6745  LossG_Adv: 0.6783 LossG_L1: 2.9611 LossG_Style 3.7226 LossG_Content 3.1153\n",
            "===> Epoch[3](11/13): Loss_D: 0.6905 Loss_G: 11.7393 LossD_Fake: 0.7083 LossD_Real: 0.6728  LossG_Adv: 0.6782 LossG_L1: 3.4654 LossG_Style 4.3339 LossG_Content 3.2617\n",
            "\n",
            "saving sample dataset_3_12.jpg - learning rate: 0.0001\n",
            "===> Epoch[3](12/13): Loss_D: 0.6909 Loss_G: 10.6292 LossD_Fake: 0.7081 LossD_Real: 0.6736  LossG_Adv: 0.6783 LossG_L1: 3.1141 LossG_Style 3.7661 LossG_Content 3.0708\n",
            "===> Epoch[3](13/13): Loss_D: 0.6920 Loss_G: 10.5678 LossD_Fake: 0.7087 LossD_Real: 0.6753  LossG_Adv: 0.6779 LossG_L1: 2.8464 LossG_Style 3.8253 LossG_Content 3.2182\n",
            "Checkpoint saved to checkpointdataset\n",
            "===> Epoch[4](1/13): Loss_D: 0.6906 Loss_G: 11.4316 LossD_Fake: 0.7080 LossD_Real: 0.6731  LossG_Adv: 0.6785 LossG_L1: 3.1056 LossG_Style 4.4262 LossG_Content 3.2213\n",
            "===> Epoch[4](2/13): Loss_D: 0.6920 Loss_G: 11.3105 LossD_Fake: 0.7089 LossD_Real: 0.6751  LossG_Adv: 0.6777 LossG_L1: 2.6555 LossG_Style 4.6529 LossG_Content 3.3244\n",
            "===> Epoch[4](3/13): Loss_D: 0.6905 Loss_G: 10.8005 LossD_Fake: 0.7077 LossD_Real: 0.6732  LossG_Adv: 0.6788 LossG_L1: 2.7730 LossG_Style 4.1499 LossG_Content 3.1987\n",
            "===> Epoch[4](4/13): Loss_D: 0.6893 Loss_G: 11.2942 LossD_Fake: 0.7085 LossD_Real: 0.6701  LossG_Adv: 0.6781 LossG_L1: 3.3858 LossG_Style 3.9707 LossG_Content 3.2597\n",
            "===> Epoch[4](5/13): Loss_D: 0.6903 Loss_G: 10.9052 LossD_Fake: 0.7085 LossD_Real: 0.6721  LossG_Adv: 0.6781 LossG_L1: 3.0300 LossG_Style 4.0716 LossG_Content 3.1255\n",
            "\n",
            "saving sample dataset_4_06.jpg - learning rate: 0.0001\n",
            "===> Epoch[4](6/13): Loss_D: 0.6913 Loss_G: 10.5981 LossD_Fake: 0.7088 LossD_Real: 0.6739  LossG_Adv: 0.6778 LossG_L1: 2.8495 LossG_Style 3.9629 LossG_Content 3.1079\n",
            "===> Epoch[4](7/13): Loss_D: 0.6920 Loss_G: 9.6529 LossD_Fake: 0.7081 LossD_Real: 0.6758  LossG_Adv: 0.6784 LossG_L1: 2.5198 LossG_Style 3.5215 LossG_Content 2.9331\n",
            "===> Epoch[4](8/13): Loss_D: 0.6897 Loss_G: 10.8057 LossD_Fake: 0.7084 LossD_Real: 0.6711  LossG_Adv: 0.6782 LossG_L1: 3.2459 LossG_Style 3.8609 LossG_Content 3.0206\n",
            "===> Epoch[4](9/13): Loss_D: 0.6909 Loss_G: 9.8612 LossD_Fake: 0.7081 LossD_Real: 0.6737  LossG_Adv: 0.6785 LossG_L1: 2.8415 LossG_Style 3.5572 LossG_Content 2.7840\n",
            "===> Epoch[4](10/13): Loss_D: 0.6911 Loss_G: 10.2721 LossD_Fake: 0.7086 LossD_Real: 0.6736  LossG_Adv: 0.6780 LossG_L1: 2.9520 LossG_Style 3.6592 LossG_Content 2.9830\n",
            "===> Epoch[4](11/13): Loss_D: 0.6902 Loss_G: 9.9706 LossD_Fake: 0.7082 LossD_Real: 0.6722  LossG_Adv: 0.6783 LossG_L1: 2.8912 LossG_Style 3.4776 LossG_Content 2.9234\n",
            "\n",
            "saving sample dataset_4_12.jpg - learning rate: 0.0001\n",
            "===> Epoch[4](12/13): Loss_D: 0.6908 Loss_G: 10.6633 LossD_Fake: 0.7085 LossD_Real: 0.6731  LossG_Adv: 0.6781 LossG_L1: 2.8841 LossG_Style 4.0298 LossG_Content 3.0714\n",
            "===> Epoch[4](13/13): Loss_D: 0.6881 Loss_G: 11.1453 LossD_Fake: 0.7082 LossD_Real: 0.6681  LossG_Adv: 0.6784 LossG_L1: 3.3155 LossG_Style 4.0718 LossG_Content 3.0796\n",
            "Checkpoint saved to checkpointdataset\n",
            "===> Epoch[5](1/13): Loss_D: 0.6909 Loss_G: 10.9445 LossD_Fake: 0.7089 LossD_Real: 0.6729  LossG_Adv: 0.6776 LossG_L1: 2.7886 LossG_Style 4.2929 LossG_Content 3.1853\n",
            "===> Epoch[5](2/13): Loss_D: 0.6918 Loss_G: 9.0779 LossD_Fake: 0.7083 LossD_Real: 0.6753  LossG_Adv: 0.6783 LossG_L1: 2.6057 LossG_Style 3.0459 LossG_Content 2.7480\n",
            "===> Epoch[5](3/13): Loss_D: 0.6901 Loss_G: 10.3567 LossD_Fake: 0.7086 LossD_Real: 0.6716  LossG_Adv: 0.6780 LossG_L1: 2.8164 LossG_Style 3.8441 LossG_Content 3.0182\n",
            "===> Epoch[5](4/13): Loss_D: 0.6903 Loss_G: 9.8017 LossD_Fake: 0.7084 LossD_Real: 0.6722  LossG_Adv: 0.6782 LossG_L1: 2.7611 LossG_Style 3.5308 LossG_Content 2.8316\n",
            "===> Epoch[5](5/13): Loss_D: 0.6910 Loss_G: 10.6036 LossD_Fake: 0.7088 LossD_Real: 0.6732  LossG_Adv: 0.6778 LossG_L1: 2.6520 LossG_Style 4.1676 LossG_Content 3.1062\n",
            "\n",
            "saving sample dataset_5_06.jpg - learning rate: 0.0001\n",
            "===> Epoch[5](6/13): Loss_D: 0.6895 Loss_G: 9.7215 LossD_Fake: 0.7082 LossD_Real: 0.6708  LossG_Adv: 0.6784 LossG_L1: 3.1059 LossG_Style 3.1916 LossG_Content 2.7456\n",
            "===> Epoch[5](7/13): Loss_D: 0.6881 Loss_G: 10.9236 LossD_Fake: 0.7084 LossD_Real: 0.6678  LossG_Adv: 0.6781 LossG_L1: 3.2785 LossG_Style 3.9236 LossG_Content 3.0434\n",
            "===> Epoch[5](8/13): Loss_D: 0.6906 Loss_G: 9.8396 LossD_Fake: 0.7087 LossD_Real: 0.6724  LossG_Adv: 0.6779 LossG_L1: 2.9400 LossG_Style 3.4016 LossG_Content 2.8201\n",
            "===> Epoch[5](9/13): Loss_D: 0.6895 Loss_G: 10.2322 LossD_Fake: 0.7086 LossD_Real: 0.6704  LossG_Adv: 0.6779 LossG_L1: 3.1164 LossG_Style 3.5355 LossG_Content 2.9023\n",
            "===> Epoch[5](10/13): Loss_D: 0.6912 Loss_G: 10.0205 LossD_Fake: 0.7088 LossD_Real: 0.6735  LossG_Adv: 0.6777 LossG_L1: 2.7235 LossG_Style 3.6299 LossG_Content 2.9894\n",
            "===> Epoch[5](11/13): Loss_D: 0.6905 Loss_G: 9.6542 LossD_Fake: 0.7086 LossD_Real: 0.6725  LossG_Adv: 0.6780 LossG_L1: 2.8677 LossG_Style 3.3265 LossG_Content 2.7820\n",
            "\n",
            "saving sample dataset_5_12.jpg - learning rate: 0.0001\n",
            "===> Epoch[5](12/13): Loss_D: 0.6894 Loss_G: 9.7675 LossD_Fake: 0.7082 LossD_Real: 0.6707  LossG_Adv: 0.6782 LossG_L1: 2.9161 LossG_Style 3.4074 LossG_Content 2.7658\n",
            "===> Epoch[5](13/13): Loss_D: 0.6874 Loss_G: 9.1617 LossD_Fake: 0.7085 LossD_Real: 0.6663  LossG_Adv: 0.6780 LossG_L1: 3.1958 LossG_Style 2.7052 LossG_Content 2.5826\n",
            "Checkpoint saved to checkpointdataset\n"
          ],
          "name": "stdout"
        }
      ]
    },
    {
      "cell_type": "code",
      "metadata": {
        "id": "24Zj66z8QbE8"
      },
      "source": [
        "def run():\r\n",
        "    torch.multiprocessing.freeze_support()\r\n",
        "    print('loop')"
      ],
      "execution_count": 24,
      "outputs": []
    },
    {
      "cell_type": "code",
      "metadata": {
        "id": "FsvBwy22Qc_Y",
        "colab": {
          "base_uri": "https://localhost:8080/"
        },
        "outputId": "be510489-358e-49d4-bdd1-0c9dfe0f4a74"
      },
      "source": [
        "if __name__ == '__main__':\r\n",
        "    run()"
      ],
      "execution_count": 25,
      "outputs": [
        {
          "output_type": "stream",
          "text": [
            "loop\n"
          ],
          "name": "stdout"
        }
      ]
    }
  ]
}