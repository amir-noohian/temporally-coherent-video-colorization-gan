{
  "nbformat": 4,
  "nbformat_minor": 0,
  "metadata": {
    "colab": {
      "name": "framestovideo_third.ipynb",
      "provenance": [],
      "collapsed_sections": []
    },
    "kernelspec": {
      "name": "python3",
      "display_name": "Python 3"
    }
  },
  "cells": [
    {
      "cell_type": "code",
      "metadata": {
        "id": "PHqBHXUy0Qpi"
      },
      "source": [
        "import sys\r\n",
        "import cv2\r\n",
        "import numpy as np\r\n",
        "import glob"
      ],
      "execution_count": null,
      "outputs": []
    },
    {
      "cell_type": "code",
      "metadata": {
        "colab": {
          "base_uri": "https://localhost:8080/"
        },
        "id": "KKRpeZyg02U0",
        "outputId": "be8a9b7b-f3c0-4abe-cb18-66b5ff1dd9e9"
      },
      "source": [
        "from google.colab import drive\r\n",
        "drive.mount('/content/gdrive')"
      ],
      "execution_count": null,
      "outputs": [
        {
          "output_type": "stream",
          "text": [
            "Mounted at /content/gdrive\n"
          ],
          "name": "stdout"
        }
      ]
    },
    {
      "cell_type": "code",
      "metadata": {
        "id": "TINQdVTJ8Og-"
      },
      "source": [
        "sys.path.append('/content/gdrive/MyDrive')"
      ],
      "execution_count": null,
      "outputs": []
    },
    {
      "cell_type": "code",
      "metadata": {
        "id": "-FJZyePMEg3o"
      },
      "source": [
        "pathout = '/content/gdrive/MyDrive/video_third.mkv'\r\n",
        "fps = 8"
      ],
      "execution_count": null,
      "outputs": []
    },
    {
      "cell_type": "code",
      "metadata": {
        "id": "6w_GhI2K1mYx"
      },
      "source": [
        "img_array = []\r\n",
        "for filename in glob.glob('/content/gdrive/MyDrive/results_third/*.jpg'):\r\n",
        "    img = cv2.imread(filename)\r\n",
        "    height, width, layers = img.shape\r\n",
        "    size = (width,height)\r\n",
        "    img_array.append(img)"
      ],
      "execution_count": null,
      "outputs": []
    },
    {
      "cell_type": "code",
      "metadata": {
        "id": "MdyyxcFC2LdP"
      },
      "source": [
        "out = cv2.VideoWriter(pathout,cv2.VideoWriter_fourcc(*'DIVX'), fps, size)"
      ],
      "execution_count": null,
      "outputs": []
    },
    {
      "cell_type": "code",
      "metadata": {
        "id": "ULrGG5mI2N-q"
      },
      "source": [
        "for i in range(len(img_array)):\r\n",
        "    out.write(img_array[i])\r\n",
        "out.release()"
      ],
      "execution_count": null,
      "outputs": []
    }
  ]
}