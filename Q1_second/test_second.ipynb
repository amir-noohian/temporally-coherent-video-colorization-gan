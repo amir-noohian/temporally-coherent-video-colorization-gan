{
  "nbformat": 4,
  "nbformat_minor": 0,
  "metadata": {
    "colab": {
      "name": "test_second.ipynb",
      "provenance": [],
      "collapsed_sections": []
    },
    "kernelspec": {
      "name": "python3",
      "display_name": "Python 3"
    },
    "accelerator": "GPU"
  },
  "cells": [
    {
      "cell_type": "code",
      "metadata": {
        "colab": {
          "base_uri": "https://localhost:8080/"
        },
        "id": "5H8d4r95ic7q",
        "outputId": "2de7a0cc-e012-410c-fa34-785ee39f662c"
      },
      "source": [
        "!pip uninstall scipy\r\n",
        "!pip install scipy==1.1.0"
      ],
      "execution_count": null,
      "outputs": [
        {
          "output_type": "stream",
          "text": [
            "Uninstalling scipy-1.4.1:\n",
            "  Would remove:\n",
            "    /usr/local/lib/python3.6/dist-packages/scipy-1.4.1.dist-info/*\n",
            "    /usr/local/lib/python3.6/dist-packages/scipy/*\n",
            "Proceed (y/n)? y\n",
            "  Successfully uninstalled scipy-1.4.1\n",
            "Collecting scipy==1.1.0\n",
            "\u001b[?25l  Downloading https://files.pythonhosted.org/packages/a8/0b/f163da98d3a01b3e0ef1cab8dd2123c34aee2bafbb1c5bffa354cc8a1730/scipy-1.1.0-cp36-cp36m-manylinux1_x86_64.whl (31.2MB)\n",
            "\u001b[K     |████████████████████████████████| 31.2MB 107kB/s \n",
            "\u001b[?25hRequirement already satisfied: numpy>=1.8.2 in /usr/local/lib/python3.6/dist-packages (from scipy==1.1.0) (1.19.5)\n",
            "\u001b[31mERROR: plotnine 0.6.0 has requirement scipy>=1.2.0, but you'll have scipy 1.1.0 which is incompatible.\u001b[0m\n",
            "\u001b[31mERROR: albumentations 0.1.12 has requirement imgaug<0.2.7,>=0.2.5, but you'll have imgaug 0.2.9 which is incompatible.\u001b[0m\n",
            "Installing collected packages: scipy\n",
            "Successfully installed scipy-1.1.0\n"
          ],
          "name": "stdout"
        }
      ]
    },
    {
      "cell_type": "code",
      "metadata": {
        "id": "ol9cRJXIiPz1"
      },
      "source": [
        "from PIL import Image\r\n",
        "from skimage import io, feature, color, util\r\n",
        "import os\r\n",
        "import sys\r\n",
        "import numpy as np\r\n",
        "import torch\r\n",
        "from torch.autograd import Variable\r\n",
        "from torch.utils.data import DataLoader, SequentialSampler\r\n",
        "import torchvision.transforms as transforms\r\n",
        "from torchvision.utils import save_image"
      ],
      "execution_count": null,
      "outputs": []
    },
    {
      "cell_type": "code",
      "metadata": {
        "colab": {
          "base_uri": "https://localhost:8080/"
        },
        "id": "9DJqA6aDioPa",
        "outputId": "d09a87c0-1a00-4a4d-b0bd-e0b50ac73bae"
      },
      "source": [
        "from google.colab import drive\r\n",
        "drive.mount('/content/gdrive')"
      ],
      "execution_count": null,
      "outputs": [
        {
          "output_type": "stream",
          "text": [
            "Mounted at /content/gdrive\n"
          ],
          "name": "stdout"
        }
      ]
    },
    {
      "cell_type": "code",
      "metadata": {
        "id": "3qySBrn_irG_"
      },
      "source": [
        "sys.path.append('/content/gdrive/MyDrive/src_second')"
      ],
      "execution_count": null,
      "outputs": []
    },
    {
      "cell_type": "code",
      "metadata": {
        "id": "ltzM48tVjCWc"
      },
      "source": [
        "from models import InpaintGenerator\r\n",
        "from data import get_training_set, get_test_set, get_val_set, create_iterator\r\n",
        "from dataset import DatasetFromFolder\r\n",
        "from util import is_image_file, load_img, save_img"
      ],
      "execution_count": null,
      "outputs": []
    },
    {
      "cell_type": "code",
      "metadata": {
        "id": "TdneGikJma52"
      },
      "source": [
        "root = '/content/gdrive/MyDrive'\r\n",
        "dataset = 'dataset'\r\n",
        "model = '/content/gdrive/MyDrive/checkpoint_second/netG_weights_epoch_5.pth'\r\n",
        "cuda = True"
      ],
      "execution_count": null,
      "outputs": []
    },
    {
      "cell_type": "code",
      "metadata": {
        "id": "gSU4yX-lmhYU"
      },
      "source": [
        "root_path = root\r\n",
        "val_set = get_val_set(os.path.join(root_path , dataset))\r\n",
        "seq_sampler = SequentialSampler(val_set)\r\n",
        "val_data_loader = DataLoader(dataset=val_set, num_workers=0, batch_size=1, shuffle=False,sampler = seq_sampler)"
      ],
      "execution_count": null,
      "outputs": []
    },
    {
      "cell_type": "code",
      "metadata": {
        "colab": {
          "base_uri": "https://localhost:8080/"
        },
        "id": "xIL_Qk9Tm7SU",
        "outputId": "2286db94-c8db-43c1-f6ab-3635b6edf81a"
      },
      "source": [
        "checkpoint = torch.load(model)\r\n",
        "netG = InpaintGenerator()\r\n",
        "netG.load_state_dict(checkpoint['generator'])\r\n",
        "netG.cuda()"
      ],
      "execution_count": null,
      "outputs": [
        {
          "output_type": "execute_result",
          "data": {
            "text/plain": [
              "InpaintGenerator(\n",
              "  (encoder): Sequential(\n",
              "    (0): ReflectionPad2d((3, 3, 3, 3))\n",
              "    (1): Conv2d(1, 64, kernel_size=(7, 7), stride=(1, 1))\n",
              "    (2): InstanceNorm2d(64, eps=1e-05, momentum=0.1, affine=False, track_running_stats=False)\n",
              "    (3): ReLU(inplace=True)\n",
              "    (4): Conv2d(64, 128, kernel_size=(4, 4), stride=(2, 2), padding=(1, 1))\n",
              "    (5): InstanceNorm2d(128, eps=1e-05, momentum=0.1, affine=False, track_running_stats=False)\n",
              "    (6): ReLU(inplace=True)\n",
              "    (7): Conv2d(128, 256, kernel_size=(4, 4), stride=(2, 2), padding=(1, 1))\n",
              "    (8): InstanceNorm2d(256, eps=1e-05, momentum=0.1, affine=False, track_running_stats=False)\n",
              "    (9): ReLU(inplace=True)\n",
              "  )\n",
              "  (middle): Sequential(\n",
              "    (0): ResnetBlock(\n",
              "      (conv_block): Sequential(\n",
              "        (0): ReflectionPad2d((2, 2, 2, 2))\n",
              "        (1): Conv2d(256, 256, kernel_size=(3, 3), stride=(1, 1), dilation=(2, 2))\n",
              "        (2): InstanceNorm2d(256, eps=1e-05, momentum=0.1, affine=False, track_running_stats=False)\n",
              "        (3): ReLU(inplace=True)\n",
              "        (4): ReflectionPad2d((1, 1, 1, 1))\n",
              "        (5): Conv2d(256, 256, kernel_size=(3, 3), stride=(1, 1))\n",
              "        (6): InstanceNorm2d(256, eps=1e-05, momentum=0.1, affine=False, track_running_stats=False)\n",
              "      )\n",
              "    )\n",
              "    (1): ResnetBlock(\n",
              "      (conv_block): Sequential(\n",
              "        (0): ReflectionPad2d((2, 2, 2, 2))\n",
              "        (1): Conv2d(256, 256, kernel_size=(3, 3), stride=(1, 1), dilation=(2, 2))\n",
              "        (2): InstanceNorm2d(256, eps=1e-05, momentum=0.1, affine=False, track_running_stats=False)\n",
              "        (3): ReLU(inplace=True)\n",
              "        (4): ReflectionPad2d((1, 1, 1, 1))\n",
              "        (5): Conv2d(256, 256, kernel_size=(3, 3), stride=(1, 1))\n",
              "        (6): InstanceNorm2d(256, eps=1e-05, momentum=0.1, affine=False, track_running_stats=False)\n",
              "      )\n",
              "    )\n",
              "    (2): ResnetBlock(\n",
              "      (conv_block): Sequential(\n",
              "        (0): ReflectionPad2d((2, 2, 2, 2))\n",
              "        (1): Conv2d(256, 256, kernel_size=(3, 3), stride=(1, 1), dilation=(2, 2))\n",
              "        (2): InstanceNorm2d(256, eps=1e-05, momentum=0.1, affine=False, track_running_stats=False)\n",
              "        (3): ReLU(inplace=True)\n",
              "        (4): ReflectionPad2d((1, 1, 1, 1))\n",
              "        (5): Conv2d(256, 256, kernel_size=(3, 3), stride=(1, 1))\n",
              "        (6): InstanceNorm2d(256, eps=1e-05, momentum=0.1, affine=False, track_running_stats=False)\n",
              "      )\n",
              "    )\n",
              "    (3): ResnetBlock(\n",
              "      (conv_block): Sequential(\n",
              "        (0): ReflectionPad2d((2, 2, 2, 2))\n",
              "        (1): Conv2d(256, 256, kernel_size=(3, 3), stride=(1, 1), dilation=(2, 2))\n",
              "        (2): InstanceNorm2d(256, eps=1e-05, momentum=0.1, affine=False, track_running_stats=False)\n",
              "        (3): ReLU(inplace=True)\n",
              "        (4): ReflectionPad2d((1, 1, 1, 1))\n",
              "        (5): Conv2d(256, 256, kernel_size=(3, 3), stride=(1, 1))\n",
              "        (6): InstanceNorm2d(256, eps=1e-05, momentum=0.1, affine=False, track_running_stats=False)\n",
              "      )\n",
              "    )\n",
              "    (4): ResnetBlock(\n",
              "      (conv_block): Sequential(\n",
              "        (0): ReflectionPad2d((2, 2, 2, 2))\n",
              "        (1): Conv2d(256, 256, kernel_size=(3, 3), stride=(1, 1), dilation=(2, 2))\n",
              "        (2): InstanceNorm2d(256, eps=1e-05, momentum=0.1, affine=False, track_running_stats=False)\n",
              "        (3): ReLU(inplace=True)\n",
              "        (4): ReflectionPad2d((1, 1, 1, 1))\n",
              "        (5): Conv2d(256, 256, kernel_size=(3, 3), stride=(1, 1))\n",
              "        (6): InstanceNorm2d(256, eps=1e-05, momentum=0.1, affine=False, track_running_stats=False)\n",
              "      )\n",
              "    )\n",
              "    (5): ResnetBlock(\n",
              "      (conv_block): Sequential(\n",
              "        (0): ReflectionPad2d((2, 2, 2, 2))\n",
              "        (1): Conv2d(256, 256, kernel_size=(3, 3), stride=(1, 1), dilation=(2, 2))\n",
              "        (2): InstanceNorm2d(256, eps=1e-05, momentum=0.1, affine=False, track_running_stats=False)\n",
              "        (3): ReLU(inplace=True)\n",
              "        (4): ReflectionPad2d((1, 1, 1, 1))\n",
              "        (5): Conv2d(256, 256, kernel_size=(3, 3), stride=(1, 1))\n",
              "        (6): InstanceNorm2d(256, eps=1e-05, momentum=0.1, affine=False, track_running_stats=False)\n",
              "      )\n",
              "    )\n",
              "    (6): ResnetBlock(\n",
              "      (conv_block): Sequential(\n",
              "        (0): ReflectionPad2d((2, 2, 2, 2))\n",
              "        (1): Conv2d(256, 256, kernel_size=(3, 3), stride=(1, 1), dilation=(2, 2))\n",
              "        (2): InstanceNorm2d(256, eps=1e-05, momentum=0.1, affine=False, track_running_stats=False)\n",
              "        (3): ReLU(inplace=True)\n",
              "        (4): ReflectionPad2d((1, 1, 1, 1))\n",
              "        (5): Conv2d(256, 256, kernel_size=(3, 3), stride=(1, 1))\n",
              "        (6): InstanceNorm2d(256, eps=1e-05, momentum=0.1, affine=False, track_running_stats=False)\n",
              "      )\n",
              "    )\n",
              "    (7): ResnetBlock(\n",
              "      (conv_block): Sequential(\n",
              "        (0): ReflectionPad2d((2, 2, 2, 2))\n",
              "        (1): Conv2d(256, 256, kernel_size=(3, 3), stride=(1, 1), dilation=(2, 2))\n",
              "        (2): InstanceNorm2d(256, eps=1e-05, momentum=0.1, affine=False, track_running_stats=False)\n",
              "        (3): ReLU(inplace=True)\n",
              "        (4): ReflectionPad2d((1, 1, 1, 1))\n",
              "        (5): Conv2d(256, 256, kernel_size=(3, 3), stride=(1, 1))\n",
              "        (6): InstanceNorm2d(256, eps=1e-05, momentum=0.1, affine=False, track_running_stats=False)\n",
              "      )\n",
              "    )\n",
              "  )\n",
              "  (decoder): Sequential(\n",
              "    (0): ConvTranspose2d(256, 128, kernel_size=(4, 4), stride=(2, 2), padding=(1, 1))\n",
              "    (1): InstanceNorm2d(128, eps=1e-05, momentum=0.1, affine=False, track_running_stats=False)\n",
              "    (2): ReLU(inplace=True)\n",
              "    (3): ConvTranspose2d(128, 64, kernel_size=(4, 4), stride=(2, 2), padding=(1, 1))\n",
              "    (4): InstanceNorm2d(64, eps=1e-05, momentum=0.1, affine=False, track_running_stats=False)\n",
              "    (5): ReLU(inplace=True)\n",
              "    (6): ReflectionPad2d((3, 3, 3, 3))\n",
              "    (7): Conv2d(64, 3, kernel_size=(7, 7), stride=(1, 1))\n",
              "  )\n",
              ")"
            ]
          },
          "metadata": {
            "tags": []
          },
          "execution_count": 8
        }
      ]
    },
    {
      "cell_type": "code",
      "metadata": {
        "id": "tK8sw1g9m-nU"
      },
      "source": [
        "transform_list = [transforms.ToTensor(),\r\n",
        "                  transforms.Normalize((0.5, 0.5, 0.5), (0.5, 0.5, 0.5))]\r\n",
        "                  \r\n",
        "transform = transforms.Compose(transform_list)"
      ],
      "execution_count": null,
      "outputs": []
    },
    {
      "cell_type": "code",
      "metadata": {
        "id": "o8-L7XTJnAnI",
        "colab": {
          "base_uri": "https://localhost:8080/"
        },
        "outputId": "f80f9aff-23f8-45ac-9aaa-50eab317e067"
      },
      "source": [
        "counter = 0\r\n",
        "\r\n",
        "with torch.no_grad():\r\n",
        "    for batch in val_data_loader:\r\n",
        "        input, target = Variable(batch[0], volatile=True), Variable(batch[1], volatile=True)\r\n",
        "        if cuda:\r\n",
        "            input = input.cuda()\r\n",
        "            target = target.cuda()\r\n",
        "\r\n",
        "\r\n",
        "        pred_input = input\r\n",
        "        out = netG(pred_input)\r\n",
        "        tmp = out\r\n",
        "        \r\n",
        "        results_dir = root_path + '/results_second'\r\n",
        "        if not os.path.exists(results_dir):\r\n",
        "            os.makedirs(results_dir)\r\n",
        "       \r\n",
        "        image_name = dataset + \"_\" + str(counter).zfill(5) + \".jpg\"\r\n",
        "        save_image(out, results_dir + \"/{}\".format(image_name))\r\n",
        "        print(\"saving:\"+image_name)\r\n",
        "        \r\n",
        "        counter += 1"
      ],
      "execution_count": null,
      "outputs": [
        {
          "output_type": "stream",
          "text": [
            "/usr/local/lib/python3.6/dist-packages/ipykernel_launcher.py:5: UserWarning: volatile was removed and now has no effect. Use `with torch.no_grad():` instead.\n",
            "  \"\"\"\n"
          ],
          "name": "stderr"
        },
        {
          "output_type": "stream",
          "text": [
            "saving:dataset_00000.jpg\n",
            "saving:dataset_00001.jpg\n",
            "saving:dataset_00002.jpg\n"
          ],
          "name": "stdout"
        }
      ]
    }
  ]
}