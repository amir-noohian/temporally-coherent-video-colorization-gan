{
 "cells": [
  {
   "cell_type": "code",
   "execution_count": 1,
   "metadata": {
    "scrolled": false
   },
   "outputs": [
    {
     "name": "stdout",
     "output_type": "stream",
     "text": [
      "Requirement already satisfied: opencv-python in c:\\users\\amirhossein\\anaconda3\\lib\\site-packages (4.5.1.48)\n",
      "Requirement already satisfied: numpy>=1.17.3 in c:\\users\\amirhossein\\anaconda3\\lib\\site-packages (from opencv-python) (1.18.5)\n",
      "Note: you may need to restart the kernel to use updated packages.\n"
     ]
    }
   ],
   "source": [
    "pip install opencv-python"
   ]
  },
  {
   "cell_type": "code",
   "execution_count": 2,
   "metadata": {},
   "outputs": [],
   "source": [
    "import cv2\n",
    "import os"
   ]
  },
  {
   "cell_type": "code",
   "execution_count": 3,
   "metadata": {},
   "outputs": [],
   "source": [
    "Episode = 6\n",
    "video_path = r\"C:\\Users\\Amirhossein\\Desktop\\University\\Deep_Learning_CE\\HWs\\HW5\\Videos\"\n",
    "video_name = os.path.join(video_path,'Episode' + '_' + str(Episode).zfill(2) + '.mkv')\n",
    "image_path = r\"C:\\Users\\Amirhossein\\Desktop\\University\\Deep_Learning_CE\\HWs\\HW5\\Images\"\n",
    "grey_path = r\"C:\\Users\\Amirhossein\\Desktop\\University\\Deep_Learning_CE\\HWs\\HW5\\Grey_Images\""
   ]
  },
  {
   "cell_type": "code",
   "execution_count": 4,
   "metadata": {},
   "outputs": [],
   "source": [
    "counter = 0\n",
    "currentframe = 0\n",
    "cap = cv2.VideoCapture(video_name)"
   ]
  },
  {
   "cell_type": "code",
   "execution_count": 5,
   "metadata": {
    "scrolled": true
   },
   "outputs": [
    {
     "name": "stdout",
     "output_type": "stream",
     "text": [
      "Creating...C:\\Users\\Amirhossein\\Desktop\\University\\Deep_Learning_CE\\HWs\\HW5\\Images\\frame06001.jpg\n",
      "Creating...C:\\Users\\Amirhossein\\Desktop\\University\\Deep_Learning_CE\\HWs\\HW5\\Images\\frame06002.jpg\n",
      "Creating...C:\\Users\\Amirhossein\\Desktop\\University\\Deep_Learning_CE\\HWs\\HW5\\Images\\frame06003.jpg\n",
      "Creating...C:\\Users\\Amirhossein\\Desktop\\University\\Deep_Learning_CE\\HWs\\HW5\\Images\\frame06004.jpg\n",
      "Creating...C:\\Users\\Amirhossein\\Desktop\\University\\Deep_Learning_CE\\HWs\\HW5\\Images\\frame06005.jpg\n",
      "Creating...C:\\Users\\Amirhossein\\Desktop\\University\\Deep_Learning_CE\\HWs\\HW5\\Images\\frame06006.jpg\n",
      "Creating...C:\\Users\\Amirhossein\\Desktop\\University\\Deep_Learning_CE\\HWs\\HW5\\Images\\frame06007.jpg\n",
      "Creating...C:\\Users\\Amirhossein\\Desktop\\University\\Deep_Learning_CE\\HWs\\HW5\\Images\\frame06008.jpg\n",
      "Creating...C:\\Users\\Amirhossein\\Desktop\\University\\Deep_Learning_CE\\HWs\\HW5\\Images\\frame06009.jpg\n",
      "Creating...C:\\Users\\Amirhossein\\Desktop\\University\\Deep_Learning_CE\\HWs\\HW5\\Images\\frame06010.jpg\n",
      "Creating...C:\\Users\\Amirhossein\\Desktop\\University\\Deep_Learning_CE\\HWs\\HW5\\Images\\frame06011.jpg\n",
      "Creating...C:\\Users\\Amirhossein\\Desktop\\University\\Deep_Learning_CE\\HWs\\HW5\\Images\\frame06012.jpg\n",
      "Creating...C:\\Users\\Amirhossein\\Desktop\\University\\Deep_Learning_CE\\HWs\\HW5\\Images\\frame06013.jpg\n",
      "Creating...C:\\Users\\Amirhossein\\Desktop\\University\\Deep_Learning_CE\\HWs\\HW5\\Images\\frame06014.jpg\n",
      "Creating...C:\\Users\\Amirhossein\\Desktop\\University\\Deep_Learning_CE\\HWs\\HW5\\Images\\frame06015.jpg\n",
      "Creating...C:\\Users\\Amirhossein\\Desktop\\University\\Deep_Learning_CE\\HWs\\HW5\\Images\\frame06016.jpg\n",
      "Creating...C:\\Users\\Amirhossein\\Desktop\\University\\Deep_Learning_CE\\HWs\\HW5\\Images\\frame06017.jpg\n",
      "Creating...C:\\Users\\Amirhossein\\Desktop\\University\\Deep_Learning_CE\\HWs\\HW5\\Images\\frame06018.jpg\n",
      "Creating...C:\\Users\\Amirhossein\\Desktop\\University\\Deep_Learning_CE\\HWs\\HW5\\Images\\frame06019.jpg\n",
      "Creating...C:\\Users\\Amirhossein\\Desktop\\University\\Deep_Learning_CE\\HWs\\HW5\\Images\\frame06020.jpg\n",
      "Creating...C:\\Users\\Amirhossein\\Desktop\\University\\Deep_Learning_CE\\HWs\\HW5\\Images\\frame06021.jpg\n",
      "Creating...C:\\Users\\Amirhossein\\Desktop\\University\\Deep_Learning_CE\\HWs\\HW5\\Images\\frame06022.jpg\n",
      "Creating...C:\\Users\\Amirhossein\\Desktop\\University\\Deep_Learning_CE\\HWs\\HW5\\Images\\frame06023.jpg\n",
      "Creating...C:\\Users\\Amirhossein\\Desktop\\University\\Deep_Learning_CE\\HWs\\HW5\\Images\\frame06024.jpg\n",
      "Creating...C:\\Users\\Amirhossein\\Desktop\\University\\Deep_Learning_CE\\HWs\\HW5\\Images\\frame06025.jpg\n",
      "Creating...C:\\Users\\Amirhossein\\Desktop\\University\\Deep_Learning_CE\\HWs\\HW5\\Images\\frame06026.jpg\n",
      "Creating...C:\\Users\\Amirhossein\\Desktop\\University\\Deep_Learning_CE\\HWs\\HW5\\Images\\frame06027.jpg\n",
      "Creating...C:\\Users\\Amirhossein\\Desktop\\University\\Deep_Learning_CE\\HWs\\HW5\\Images\\frame06028.jpg\n",
      "Creating...C:\\Users\\Amirhossein\\Desktop\\University\\Deep_Learning_CE\\HWs\\HW5\\Images\\frame06029.jpg\n",
      "Creating...C:\\Users\\Amirhossein\\Desktop\\University\\Deep_Learning_CE\\HWs\\HW5\\Images\\frame06030.jpg\n",
      "Creating...C:\\Users\\Amirhossein\\Desktop\\University\\Deep_Learning_CE\\HWs\\HW5\\Images\\frame06031.jpg\n",
      "Creating...C:\\Users\\Amirhossein\\Desktop\\University\\Deep_Learning_CE\\HWs\\HW5\\Images\\frame06032.jpg\n",
      "Creating...C:\\Users\\Amirhossein\\Desktop\\University\\Deep_Learning_CE\\HWs\\HW5\\Images\\frame06033.jpg\n",
      "Creating...C:\\Users\\Amirhossein\\Desktop\\University\\Deep_Learning_CE\\HWs\\HW5\\Images\\frame06034.jpg\n",
      "Creating...C:\\Users\\Amirhossein\\Desktop\\University\\Deep_Learning_CE\\HWs\\HW5\\Images\\frame06035.jpg\n",
      "Creating...C:\\Users\\Amirhossein\\Desktop\\University\\Deep_Learning_CE\\HWs\\HW5\\Images\\frame06036.jpg\n",
      "Creating...C:\\Users\\Amirhossein\\Desktop\\University\\Deep_Learning_CE\\HWs\\HW5\\Images\\frame06037.jpg\n",
      "Creating...C:\\Users\\Amirhossein\\Desktop\\University\\Deep_Learning_CE\\HWs\\HW5\\Images\\frame06038.jpg\n",
      "Creating...C:\\Users\\Amirhossein\\Desktop\\University\\Deep_Learning_CE\\HWs\\HW5\\Images\\frame06039.jpg\n",
      "Creating...C:\\Users\\Amirhossein\\Desktop\\University\\Deep_Learning_CE\\HWs\\HW5\\Images\\frame06040.jpg\n",
      "Creating...C:\\Users\\Amirhossein\\Desktop\\University\\Deep_Learning_CE\\HWs\\HW5\\Images\\frame06041.jpg\n",
      "Creating...C:\\Users\\Amirhossein\\Desktop\\University\\Deep_Learning_CE\\HWs\\HW5\\Images\\frame06042.jpg\n",
      "Creating...C:\\Users\\Amirhossein\\Desktop\\University\\Deep_Learning_CE\\HWs\\HW5\\Images\\frame06043.jpg\n",
      "Creating...C:\\Users\\Amirhossein\\Desktop\\University\\Deep_Learning_CE\\HWs\\HW5\\Images\\frame06044.jpg\n",
      "Creating...C:\\Users\\Amirhossein\\Desktop\\University\\Deep_Learning_CE\\HWs\\HW5\\Images\\frame06045.jpg\n",
      "Creating...C:\\Users\\Amirhossein\\Desktop\\University\\Deep_Learning_CE\\HWs\\HW5\\Images\\frame06046.jpg\n",
      "Creating...C:\\Users\\Amirhossein\\Desktop\\University\\Deep_Learning_CE\\HWs\\HW5\\Images\\frame06047.jpg\n",
      "Creating...C:\\Users\\Amirhossein\\Desktop\\University\\Deep_Learning_CE\\HWs\\HW5\\Images\\frame06048.jpg\n",
      "Creating...C:\\Users\\Amirhossein\\Desktop\\University\\Deep_Learning_CE\\HWs\\HW5\\Images\\frame06049.jpg\n",
      "Creating...C:\\Users\\Amirhossein\\Desktop\\University\\Deep_Learning_CE\\HWs\\HW5\\Images\\frame06050.jpg\n",
      "Creating...C:\\Users\\Amirhossein\\Desktop\\University\\Deep_Learning_CE\\HWs\\HW5\\Images\\frame06051.jpg\n",
      "Creating...C:\\Users\\Amirhossein\\Desktop\\University\\Deep_Learning_CE\\HWs\\HW5\\Images\\frame06052.jpg\n",
      "Creating...C:\\Users\\Amirhossein\\Desktop\\University\\Deep_Learning_CE\\HWs\\HW5\\Images\\frame06053.jpg\n",
      "Creating...C:\\Users\\Amirhossein\\Desktop\\University\\Deep_Learning_CE\\HWs\\HW5\\Images\\frame06054.jpg\n",
      "Creating...C:\\Users\\Amirhossein\\Desktop\\University\\Deep_Learning_CE\\HWs\\HW5\\Images\\frame06055.jpg\n",
      "Creating...C:\\Users\\Amirhossein\\Desktop\\University\\Deep_Learning_CE\\HWs\\HW5\\Images\\frame06056.jpg\n",
      "Creating...C:\\Users\\Amirhossein\\Desktop\\University\\Deep_Learning_CE\\HWs\\HW5\\Images\\frame06057.jpg\n",
      "Creating...C:\\Users\\Amirhossein\\Desktop\\University\\Deep_Learning_CE\\HWs\\HW5\\Images\\frame06058.jpg\n",
      "Creating...C:\\Users\\Amirhossein\\Desktop\\University\\Deep_Learning_CE\\HWs\\HW5\\Images\\frame06059.jpg\n",
      "Creating...C:\\Users\\Amirhossein\\Desktop\\University\\Deep_Learning_CE\\HWs\\HW5\\Images\\frame06060.jpg\n",
      "Creating...C:\\Users\\Amirhossein\\Desktop\\University\\Deep_Learning_CE\\HWs\\HW5\\Images\\frame06061.jpg\n",
      "Creating...C:\\Users\\Amirhossein\\Desktop\\University\\Deep_Learning_CE\\HWs\\HW5\\Images\\frame06062.jpg\n",
      "Creating...C:\\Users\\Amirhossein\\Desktop\\University\\Deep_Learning_CE\\HWs\\HW5\\Images\\frame06063.jpg\n",
      "Creating...C:\\Users\\Amirhossein\\Desktop\\University\\Deep_Learning_CE\\HWs\\HW5\\Images\\frame06064.jpg\n",
      "Creating...C:\\Users\\Amirhossein\\Desktop\\University\\Deep_Learning_CE\\HWs\\HW5\\Images\\frame06065.jpg\n",
      "Creating...C:\\Users\\Amirhossein\\Desktop\\University\\Deep_Learning_CE\\HWs\\HW5\\Images\\frame06066.jpg\n",
      "Creating...C:\\Users\\Amirhossein\\Desktop\\University\\Deep_Learning_CE\\HWs\\HW5\\Images\\frame06067.jpg\n",
      "Creating...C:\\Users\\Amirhossein\\Desktop\\University\\Deep_Learning_CE\\HWs\\HW5\\Images\\frame06068.jpg\n",
      "Creating...C:\\Users\\Amirhossein\\Desktop\\University\\Deep_Learning_CE\\HWs\\HW5\\Images\\frame06069.jpg\n",
      "Creating...C:\\Users\\Amirhossein\\Desktop\\University\\Deep_Learning_CE\\HWs\\HW5\\Images\\frame06070.jpg\n",
      "Creating...C:\\Users\\Amirhossein\\Desktop\\University\\Deep_Learning_CE\\HWs\\HW5\\Images\\frame06071.jpg\n",
      "Creating...C:\\Users\\Amirhossein\\Desktop\\University\\Deep_Learning_CE\\HWs\\HW5\\Images\\frame06072.jpg\n",
      "Creating...C:\\Users\\Amirhossein\\Desktop\\University\\Deep_Learning_CE\\HWs\\HW5\\Images\\frame06073.jpg\n",
      "Creating...C:\\Users\\Amirhossein\\Desktop\\University\\Deep_Learning_CE\\HWs\\HW5\\Images\\frame06074.jpg\n",
      "Creating...C:\\Users\\Amirhossein\\Desktop\\University\\Deep_Learning_CE\\HWs\\HW5\\Images\\frame06075.jpg\n",
      "Creating...C:\\Users\\Amirhossein\\Desktop\\University\\Deep_Learning_CE\\HWs\\HW5\\Images\\frame06076.jpg\n",
      "Creating...C:\\Users\\Amirhossein\\Desktop\\University\\Deep_Learning_CE\\HWs\\HW5\\Images\\frame06077.jpg\n",
      "Creating...C:\\Users\\Amirhossein\\Desktop\\University\\Deep_Learning_CE\\HWs\\HW5\\Images\\frame06078.jpg\n",
      "Creating...C:\\Users\\Amirhossein\\Desktop\\University\\Deep_Learning_CE\\HWs\\HW5\\Images\\frame06079.jpg\n",
      "Creating...C:\\Users\\Amirhossein\\Desktop\\University\\Deep_Learning_CE\\HWs\\HW5\\Images\\frame06080.jpg\n",
      "Creating...C:\\Users\\Amirhossein\\Desktop\\University\\Deep_Learning_CE\\HWs\\HW5\\Images\\frame06081.jpg\n",
      "Creating...C:\\Users\\Amirhossein\\Desktop\\University\\Deep_Learning_CE\\HWs\\HW5\\Images\\frame06082.jpg\n",
      "Creating...C:\\Users\\Amirhossein\\Desktop\\University\\Deep_Learning_CE\\HWs\\HW5\\Images\\frame06083.jpg\n",
      "Creating...C:\\Users\\Amirhossein\\Desktop\\University\\Deep_Learning_CE\\HWs\\HW5\\Images\\frame06084.jpg\n",
      "Creating...C:\\Users\\Amirhossein\\Desktop\\University\\Deep_Learning_CE\\HWs\\HW5\\Images\\frame06085.jpg\n"
     ]
    },
    {
     "name": "stdout",
     "output_type": "stream",
     "text": [
      "Creating...C:\\Users\\Amirhossein\\Desktop\\University\\Deep_Learning_CE\\HWs\\HW5\\Images\\frame06086.jpg\n",
      "Creating...C:\\Users\\Amirhossein\\Desktop\\University\\Deep_Learning_CE\\HWs\\HW5\\Images\\frame06087.jpg\n",
      "Creating...C:\\Users\\Amirhossein\\Desktop\\University\\Deep_Learning_CE\\HWs\\HW5\\Images\\frame06088.jpg\n",
      "Creating...C:\\Users\\Amirhossein\\Desktop\\University\\Deep_Learning_CE\\HWs\\HW5\\Images\\frame06089.jpg\n",
      "Creating...C:\\Users\\Amirhossein\\Desktop\\University\\Deep_Learning_CE\\HWs\\HW5\\Images\\frame06090.jpg\n",
      "Creating...C:\\Users\\Amirhossein\\Desktop\\University\\Deep_Learning_CE\\HWs\\HW5\\Images\\frame06091.jpg\n",
      "Creating...C:\\Users\\Amirhossein\\Desktop\\University\\Deep_Learning_CE\\HWs\\HW5\\Images\\frame06092.jpg\n",
      "Creating...C:\\Users\\Amirhossein\\Desktop\\University\\Deep_Learning_CE\\HWs\\HW5\\Images\\frame06093.jpg\n",
      "Creating...C:\\Users\\Amirhossein\\Desktop\\University\\Deep_Learning_CE\\HWs\\HW5\\Images\\frame06094.jpg\n",
      "Creating...C:\\Users\\Amirhossein\\Desktop\\University\\Deep_Learning_CE\\HWs\\HW5\\Images\\frame06095.jpg\n",
      "Creating...C:\\Users\\Amirhossein\\Desktop\\University\\Deep_Learning_CE\\HWs\\HW5\\Images\\frame06096.jpg\n",
      "Creating...C:\\Users\\Amirhossein\\Desktop\\University\\Deep_Learning_CE\\HWs\\HW5\\Images\\frame06097.jpg\n",
      "Creating...C:\\Users\\Amirhossein\\Desktop\\University\\Deep_Learning_CE\\HWs\\HW5\\Images\\frame06098.jpg\n",
      "Creating...C:\\Users\\Amirhossein\\Desktop\\University\\Deep_Learning_CE\\HWs\\HW5\\Images\\frame06099.jpg\n",
      "Creating...C:\\Users\\Amirhossein\\Desktop\\University\\Deep_Learning_CE\\HWs\\HW5\\Images\\frame06100.jpg\n",
      "Creating...C:\\Users\\Amirhossein\\Desktop\\University\\Deep_Learning_CE\\HWs\\HW5\\Images\\frame06101.jpg\n",
      "Creating...C:\\Users\\Amirhossein\\Desktop\\University\\Deep_Learning_CE\\HWs\\HW5\\Images\\frame06102.jpg\n",
      "Creating...C:\\Users\\Amirhossein\\Desktop\\University\\Deep_Learning_CE\\HWs\\HW5\\Images\\frame06103.jpg\n",
      "Creating...C:\\Users\\Amirhossein\\Desktop\\University\\Deep_Learning_CE\\HWs\\HW5\\Images\\frame06104.jpg\n",
      "Creating...C:\\Users\\Amirhossein\\Desktop\\University\\Deep_Learning_CE\\HWs\\HW5\\Images\\frame06105.jpg\n",
      "Creating...C:\\Users\\Amirhossein\\Desktop\\University\\Deep_Learning_CE\\HWs\\HW5\\Images\\frame06106.jpg\n",
      "Creating...C:\\Users\\Amirhossein\\Desktop\\University\\Deep_Learning_CE\\HWs\\HW5\\Images\\frame06107.jpg\n",
      "Creating...C:\\Users\\Amirhossein\\Desktop\\University\\Deep_Learning_CE\\HWs\\HW5\\Images\\frame06108.jpg\n",
      "Creating...C:\\Users\\Amirhossein\\Desktop\\University\\Deep_Learning_CE\\HWs\\HW5\\Images\\frame06109.jpg\n",
      "Creating...C:\\Users\\Amirhossein\\Desktop\\University\\Deep_Learning_CE\\HWs\\HW5\\Images\\frame06110.jpg\n",
      "Creating...C:\\Users\\Amirhossein\\Desktop\\University\\Deep_Learning_CE\\HWs\\HW5\\Images\\frame06111.jpg\n",
      "Creating...C:\\Users\\Amirhossein\\Desktop\\University\\Deep_Learning_CE\\HWs\\HW5\\Images\\frame06112.jpg\n",
      "Creating...C:\\Users\\Amirhossein\\Desktop\\University\\Deep_Learning_CE\\HWs\\HW5\\Images\\frame06113.jpg\n",
      "Creating...C:\\Users\\Amirhossein\\Desktop\\University\\Deep_Learning_CE\\HWs\\HW5\\Images\\frame06114.jpg\n",
      "Creating...C:\\Users\\Amirhossein\\Desktop\\University\\Deep_Learning_CE\\HWs\\HW5\\Images\\frame06115.jpg\n",
      "Creating...C:\\Users\\Amirhossein\\Desktop\\University\\Deep_Learning_CE\\HWs\\HW5\\Images\\frame06116.jpg\n",
      "Creating...C:\\Users\\Amirhossein\\Desktop\\University\\Deep_Learning_CE\\HWs\\HW5\\Images\\frame06117.jpg\n",
      "Creating...C:\\Users\\Amirhossein\\Desktop\\University\\Deep_Learning_CE\\HWs\\HW5\\Images\\frame06118.jpg\n",
      "Creating...C:\\Users\\Amirhossein\\Desktop\\University\\Deep_Learning_CE\\HWs\\HW5\\Images\\frame06119.jpg\n",
      "Creating...C:\\Users\\Amirhossein\\Desktop\\University\\Deep_Learning_CE\\HWs\\HW5\\Images\\frame06120.jpg\n"
     ]
    }
   ],
   "source": [
    "while(True):\n",
    "        \n",
    "    ret, frame = cap.read()\n",
    "\n",
    "    if ret == False:\n",
    "        break\n",
    "\n",
    "    currentframe +=1\n",
    "    frame_name = os.path.join(image_path,'frame' + str(Episode).zfill(2)+ str(counter+1).zfill(3) + '.jpg')\n",
    "\n",
    "    if (currentframe > 2000):\n",
    "        if (currentframe % 6 == 0):  \n",
    "            print('Creating...'+ frame_name)\n",
    "            cv2.imwrite(frame_name, frame)\n",
    "            counter += 1\n",
    "            \n",
    "            if (counter==120):\n",
    "                break\n",
    " \n",
    "    if cv2.waitKey(1) & 0xFF == ord('q'):\n",
    "        break"
   ]
  },
  {
   "cell_type": "code",
   "execution_count": 6,
   "metadata": {},
   "outputs": [],
   "source": [
    "cap.release()\n",
    "cv2.destroyAllWindows()"
   ]
  },
  {
   "cell_type": "code",
   "execution_count": 7,
   "metadata": {},
   "outputs": [],
   "source": [
    "# RGB images to Lineart images\n",
    "\n",
    "# for i in range(0, counter):\n",
    "#     image_name = os.path.join(image_path,'frame'+ str(Episode).zfill(2)+ str(i+1).zfill(3) + '.jpg')\n",
    "#     img = cv2.imread(image_name,0)\n",
    "#     edges = 255 - cv2.Canny(img,100,200)\n",
    "#     grey_name = os.path.join(grey_path,'frame'+ str(Episode).zfill(2)+ str(i+1).zfill(2) + '.jpg')\n",
    "#     cv2.imwrite(grey_name, edges)"
   ]
  }
 ],
 "metadata": {
  "kernelspec": {
   "display_name": "Python 3",
   "language": "python",
   "name": "python3"
  },
  "language_info": {
   "codemirror_mode": {
    "name": "ipython",
    "version": 3
   },
   "file_extension": ".py",
   "mimetype": "text/x-python",
   "name": "python",
   "nbconvert_exporter": "python",
   "pygments_lexer": "ipython3",
   "version": "3.8.3"
  }
 },
 "nbformat": 4,
 "nbformat_minor": 4
}
